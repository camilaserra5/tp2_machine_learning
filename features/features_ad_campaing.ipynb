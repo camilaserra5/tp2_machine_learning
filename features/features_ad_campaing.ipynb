{
 "cells": [
  {
   "cell_type": "code",
   "execution_count": 13,
   "metadata": {},
   "outputs": [],
   "source": [
    "import pandas as pd\n",
    "import numpy as np\n",
    "import datetime\n",
    "from datetime import datetime, timedelta\n",
    "import utils\n",
    "import warnings\n",
    "warnings.simplefilter(action='ignore', category=FutureWarning)\n",
    "warnings.simplefilter(action='ignore', category=RuntimeWarning)"
   ]
  },
  {
   "cell_type": "code",
   "execution_count": 14,
   "metadata": {},
   "outputs": [
    {
     "data": {
      "text/html": [
       "<div>\n",
       "<style scoped>\n",
       "    .dataframe tbody tr th:only-of-type {\n",
       "        vertical-align: middle;\n",
       "    }\n",
       "\n",
       "    .dataframe tbody tr th {\n",
       "        vertical-align: top;\n",
       "    }\n",
       "\n",
       "    .dataframe thead th {\n",
       "        text-align: right;\n",
       "    }\n",
       "</style>\n",
       "<table border=\"1\" class=\"dataframe\">\n",
       "  <thead>\n",
       "    <tr style=\"text-align: right;\">\n",
       "      <th></th>\n",
       "      <th>timestamp</th>\n",
       "      <th>event</th>\n",
       "      <th>person</th>\n",
       "      <th>url</th>\n",
       "      <th>sku</th>\n",
       "      <th>model</th>\n",
       "      <th>condition</th>\n",
       "      <th>storage</th>\n",
       "      <th>color</th>\n",
       "      <th>skus</th>\n",
       "      <th>...</th>\n",
       "      <th>city</th>\n",
       "      <th>region</th>\n",
       "      <th>country</th>\n",
       "      <th>device_type</th>\n",
       "      <th>screen_resolution</th>\n",
       "      <th>operating_system_version</th>\n",
       "      <th>browser_version</th>\n",
       "      <th>month</th>\n",
       "      <th>day</th>\n",
       "      <th>hora</th>\n",
       "    </tr>\n",
       "  </thead>\n",
       "  <tbody>\n",
       "    <tr>\n",
       "      <th>0</th>\n",
       "      <td>2018-05-18 00:11:59</td>\n",
       "      <td>viewed product</td>\n",
       "      <td>4886f805</td>\n",
       "      <td>NaN</td>\n",
       "      <td>9288.0</td>\n",
       "      <td>Samsung Galaxy J7 Prime</td>\n",
       "      <td>Excelente</td>\n",
       "      <td>32GB</td>\n",
       "      <td>Dourado</td>\n",
       "      <td>NaN</td>\n",
       "      <td>...</td>\n",
       "      <td>NaN</td>\n",
       "      <td>NaN</td>\n",
       "      <td>NaN</td>\n",
       "      <td>NaN</td>\n",
       "      <td>NaN</td>\n",
       "      <td>NaN</td>\n",
       "      <td>NaN</td>\n",
       "      <td>5</td>\n",
       "      <td>18</td>\n",
       "      <td>0</td>\n",
       "    </tr>\n",
       "    <tr>\n",
       "      <th>1</th>\n",
       "      <td>2018-05-18 00:11:27</td>\n",
       "      <td>viewed product</td>\n",
       "      <td>ad93850f</td>\n",
       "      <td>NaN</td>\n",
       "      <td>304.0</td>\n",
       "      <td>iPhone 5s</td>\n",
       "      <td>Muito Bom</td>\n",
       "      <td>32GB</td>\n",
       "      <td>Cinza espacial</td>\n",
       "      <td>NaN</td>\n",
       "      <td>...</td>\n",
       "      <td>NaN</td>\n",
       "      <td>NaN</td>\n",
       "      <td>NaN</td>\n",
       "      <td>NaN</td>\n",
       "      <td>NaN</td>\n",
       "      <td>NaN</td>\n",
       "      <td>NaN</td>\n",
       "      <td>5</td>\n",
       "      <td>18</td>\n",
       "      <td>0</td>\n",
       "    </tr>\n",
       "    <tr>\n",
       "      <th>2</th>\n",
       "      <td>2018-05-18 00:11:16</td>\n",
       "      <td>viewed product</td>\n",
       "      <td>0297fc1e</td>\n",
       "      <td>NaN</td>\n",
       "      <td>6888.0</td>\n",
       "      <td>iPhone 6S</td>\n",
       "      <td>Muito Bom</td>\n",
       "      <td>64GB</td>\n",
       "      <td>Prateado</td>\n",
       "      <td>NaN</td>\n",
       "      <td>...</td>\n",
       "      <td>NaN</td>\n",
       "      <td>NaN</td>\n",
       "      <td>NaN</td>\n",
       "      <td>NaN</td>\n",
       "      <td>NaN</td>\n",
       "      <td>NaN</td>\n",
       "      <td>NaN</td>\n",
       "      <td>5</td>\n",
       "      <td>18</td>\n",
       "      <td>0</td>\n",
       "    </tr>\n",
       "    <tr>\n",
       "      <th>3</th>\n",
       "      <td>2018-05-18 00:11:14</td>\n",
       "      <td>viewed product</td>\n",
       "      <td>2d681dd8</td>\n",
       "      <td>NaN</td>\n",
       "      <td>11890.0</td>\n",
       "      <td>iPhone 7</td>\n",
       "      <td>Bom</td>\n",
       "      <td>128GB</td>\n",
       "      <td>Vermelho</td>\n",
       "      <td>NaN</td>\n",
       "      <td>...</td>\n",
       "      <td>NaN</td>\n",
       "      <td>NaN</td>\n",
       "      <td>NaN</td>\n",
       "      <td>NaN</td>\n",
       "      <td>NaN</td>\n",
       "      <td>NaN</td>\n",
       "      <td>NaN</td>\n",
       "      <td>5</td>\n",
       "      <td>18</td>\n",
       "      <td>0</td>\n",
       "    </tr>\n",
       "    <tr>\n",
       "      <th>4</th>\n",
       "      <td>2018-05-18 00:11:09</td>\n",
       "      <td>viewed product</td>\n",
       "      <td>cccea85e</td>\n",
       "      <td>NaN</td>\n",
       "      <td>7517.0</td>\n",
       "      <td>LG G4 H818P</td>\n",
       "      <td>Excelente</td>\n",
       "      <td>32GB</td>\n",
       "      <td>Branco</td>\n",
       "      <td>NaN</td>\n",
       "      <td>...</td>\n",
       "      <td>NaN</td>\n",
       "      <td>NaN</td>\n",
       "      <td>NaN</td>\n",
       "      <td>NaN</td>\n",
       "      <td>NaN</td>\n",
       "      <td>NaN</td>\n",
       "      <td>NaN</td>\n",
       "      <td>5</td>\n",
       "      <td>18</td>\n",
       "      <td>0</td>\n",
       "    </tr>\n",
       "  </tbody>\n",
       "</table>\n",
       "<p>5 rows × 26 columns</p>\n",
       "</div>"
      ],
      "text/plain": [
       "            timestamp           event    person  url      sku  \\\n",
       "0 2018-05-18 00:11:59  viewed product  4886f805  NaN   9288.0   \n",
       "1 2018-05-18 00:11:27  viewed product  ad93850f  NaN    304.0   \n",
       "2 2018-05-18 00:11:16  viewed product  0297fc1e  NaN   6888.0   \n",
       "3 2018-05-18 00:11:14  viewed product  2d681dd8  NaN  11890.0   \n",
       "4 2018-05-18 00:11:09  viewed product  cccea85e  NaN   7517.0   \n",
       "\n",
       "                     model  condition storage           color skus ...  city  \\\n",
       "0  Samsung Galaxy J7 Prime  Excelente    32GB         Dourado  NaN ...   NaN   \n",
       "1                iPhone 5s  Muito Bom    32GB  Cinza espacial  NaN ...   NaN   \n",
       "2                iPhone 6S  Muito Bom    64GB        Prateado  NaN ...   NaN   \n",
       "3                 iPhone 7        Bom   128GB        Vermelho  NaN ...   NaN   \n",
       "4              LG G4 H818P  Excelente    32GB          Branco  NaN ...   NaN   \n",
       "\n",
       "  region country device_type screen_resolution operating_system_version  \\\n",
       "0    NaN     NaN         NaN               NaN                      NaN   \n",
       "1    NaN     NaN         NaN               NaN                      NaN   \n",
       "2    NaN     NaN         NaN               NaN                      NaN   \n",
       "3    NaN     NaN         NaN               NaN                      NaN   \n",
       "4    NaN     NaN         NaN               NaN                      NaN   \n",
       "\n",
       "  browser_version month day hora  \n",
       "0             NaN     5  18    0  \n",
       "1             NaN     5  18    0  \n",
       "2             NaN     5  18    0  \n",
       "3             NaN     5  18    0  \n",
       "4             NaN     5  18    0  \n",
       "\n",
       "[5 rows x 26 columns]"
      ]
     },
     "execution_count": 14,
     "metadata": {},
     "output_type": "execute_result"
    }
   ],
   "source": [
    "events = utils.get_events()\n",
    "events.head()"
   ]
  },
  {
   "cell_type": "code",
   "execution_count": 15,
   "metadata": {},
   "outputs": [
    {
     "data": {
      "text/plain": [
       "(2341681, 26)"
      ]
     },
     "execution_count": 15,
     "metadata": {},
     "output_type": "execute_result"
    }
   ],
   "source": [
    "events.shape"
   ]
  },
  {
   "cell_type": "code",
   "execution_count": 16,
   "metadata": {},
   "outputs": [],
   "source": [
    "campaign_events = events[events['event']=='ad campaign hit'][['timestamp', 'event', 'person', 'url',\n",
    "       'campaign_source', 'day', 'month']]\n",
    "campaign_events['ads_accion'] = campaign_events['url'].str.split('/').str[1]\n",
    "campaign_events['ads_marca'] = campaign_events['url'].str.split('/').str[2]\n",
    "campaign_events['ads_modelo'] = campaign_events['url'].str.split('/').str[3]"
   ]
  },
  {
   "cell_type": "code",
   "execution_count": 17,
   "metadata": {},
   "outputs": [
    {
     "data": {
      "text/plain": [
       "google              123354\n",
       "criteo               24931\n",
       "rtbhouse             23540\n",
       "zanox                 7013\n",
       "emblue                3653\n",
       "afilio                1913\n",
       "manifest              1365\n",
       "FacebookAds           1301\n",
       "voxus                  971\n",
       "rakuten                843\n",
       "bing                   839\n",
       "datacrush              433\n",
       "indexa                 313\n",
       "buscape                271\n",
       "Facebook               203\n",
       "afiliado                92\n",
       "blog                    88\n",
       "mercadopago             74\n",
       "yotpo                   54\n",
       "FacebookSocial          12\n",
       "onsite                  12\n",
       "MARKETING SOCIAL         7\n",
       "gizmodo                  4\n",
       "Name: campaign_source, dtype: int64"
      ]
     },
     "execution_count": 17,
     "metadata": {},
     "output_type": "execute_result"
    }
   ],
   "source": [
    "## source\n",
    "campaign_data = campaign_events[campaign_events['campaign_source'].notnull()]\n",
    "campaign_data['campaign_source'].value_counts()"
   ]
  },
  {
   "cell_type": "code",
   "execution_count": 18,
   "metadata": {},
   "outputs": [],
   "source": [
    "features = events['person']\n",
    "features = pd.concat([features, pd.get_dummies(events['campaign_source'], prefix='campaign_source')],axis=1)"
   ]
  },
  {
   "cell_type": "code",
   "execution_count": 19,
   "metadata": {},
   "outputs": [
    {
     "data": {
      "text/plain": [
       "(2341681, 24)"
      ]
     },
     "execution_count": 19,
     "metadata": {},
     "output_type": "execute_result"
    }
   ],
   "source": [
    "features.shape"
   ]
  },
  {
   "cell_type": "code",
   "execution_count": 22,
   "metadata": {},
   "outputs": [
    {
     "data": {
      "text/plain": [
       "(38829, 24)"
      ]
     },
     "execution_count": 22,
     "metadata": {},
     "output_type": "execute_result"
    }
   ],
   "source": [
    "features = features.groupby('person').sum()\n",
    "features = features.reset_index()\n",
    "features = features.fillna(0)\n",
    "features.shape"
   ]
  },
  {
   "cell_type": "code",
   "execution_count": 23,
   "metadata": {},
   "outputs": [],
   "source": [
    "features.to_csv('features_ad_campaing.csv',index=False)"
   ]
  },
  {
   "cell_type": "code",
   "execution_count": null,
   "metadata": {},
   "outputs": [],
   "source": []
  }
 ],
 "metadata": {
  "kernelspec": {
   "display_name": "Python 3",
   "language": "python",
   "name": "python3"
  },
  "language_info": {
   "codemirror_mode": {
    "name": "ipython",
    "version": 3
   },
   "file_extension": ".py",
   "mimetype": "text/x-python",
   "name": "python",
   "nbconvert_exporter": "python",
   "pygments_lexer": "ipython3",
   "version": "3.6.5"
  }
 },
 "nbformat": 4,
 "nbformat_minor": 2
}
