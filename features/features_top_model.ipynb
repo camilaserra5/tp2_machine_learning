{
 "cells": [
  {
   "cell_type": "code",
   "execution_count": 1,
   "metadata": {},
   "outputs": [],
   "source": [
    "import pandas as pd\n",
    "import numpy as np\n",
    "import datetime\n",
    "from datetime import datetime, timedelta\n",
    "import utils"
   ]
  },
  {
   "cell_type": "code",
   "execution_count": 2,
   "metadata": {},
   "outputs": [],
   "source": [
    "events = utils.get_events()"
   ]
  },
  {
   "cell_type": "code",
   "execution_count": 3,
   "metadata": {
    "scrolled": true
   },
   "outputs": [
    {
     "data": {
      "text/html": [
       "<div>\n",
       "<style scoped>\n",
       "    .dataframe tbody tr th:only-of-type {\n",
       "        vertical-align: middle;\n",
       "    }\n",
       "\n",
       "    .dataframe tbody tr th {\n",
       "        vertical-align: top;\n",
       "    }\n",
       "\n",
       "    .dataframe thead th {\n",
       "        text-align: right;\n",
       "    }\n",
       "</style>\n",
       "<table border=\"1\" class=\"dataframe\">\n",
       "  <thead>\n",
       "    <tr style=\"text-align: right;\">\n",
       "      <th></th>\n",
       "      <th>timestamp</th>\n",
       "      <th>event</th>\n",
       "      <th>person</th>\n",
       "      <th>url</th>\n",
       "      <th>sku</th>\n",
       "      <th>model</th>\n",
       "      <th>condition</th>\n",
       "      <th>storage</th>\n",
       "      <th>color</th>\n",
       "      <th>skus</th>\n",
       "      <th>...</th>\n",
       "      <th>city</th>\n",
       "      <th>region</th>\n",
       "      <th>country</th>\n",
       "      <th>device_type</th>\n",
       "      <th>screen_resolution</th>\n",
       "      <th>operating_system_version</th>\n",
       "      <th>browser_version</th>\n",
       "      <th>month</th>\n",
       "      <th>day</th>\n",
       "      <th>hora</th>\n",
       "    </tr>\n",
       "  </thead>\n",
       "  <tbody>\n",
       "    <tr>\n",
       "      <th>0</th>\n",
       "      <td>2018-05-18 00:11:59</td>\n",
       "      <td>viewed product</td>\n",
       "      <td>4886f805</td>\n",
       "      <td>NaN</td>\n",
       "      <td>9288.0</td>\n",
       "      <td>Samsung Galaxy J7 Prime</td>\n",
       "      <td>Excelente</td>\n",
       "      <td>32GB</td>\n",
       "      <td>Dourado</td>\n",
       "      <td>NaN</td>\n",
       "      <td>...</td>\n",
       "      <td>NaN</td>\n",
       "      <td>NaN</td>\n",
       "      <td>NaN</td>\n",
       "      <td>NaN</td>\n",
       "      <td>NaN</td>\n",
       "      <td>NaN</td>\n",
       "      <td>NaN</td>\n",
       "      <td>5</td>\n",
       "      <td>18</td>\n",
       "      <td>0</td>\n",
       "    </tr>\n",
       "  </tbody>\n",
       "</table>\n",
       "<p>1 rows × 26 columns</p>\n",
       "</div>"
      ],
      "text/plain": [
       "            timestamp           event    person  url     sku  \\\n",
       "0 2018-05-18 00:11:59  viewed product  4886f805  NaN  9288.0   \n",
       "\n",
       "                     model  condition storage    color skus ...  city region  \\\n",
       "0  Samsung Galaxy J7 Prime  Excelente    32GB  Dourado  NaN ...   NaN    NaN   \n",
       "\n",
       "  country device_type screen_resolution operating_system_version  \\\n",
       "0     NaN         NaN               NaN                      NaN   \n",
       "\n",
       "  browser_version month day hora  \n",
       "0             NaN     5  18    0  \n",
       "\n",
       "[1 rows x 26 columns]"
      ]
     },
     "execution_count": 3,
     "metadata": {},
     "output_type": "execute_result"
    }
   ],
   "source": [
    "events.head(1)"
   ]
  },
  {
   "cell_type": "markdown",
   "metadata": {},
   "source": [
    "### feature_top_model\n",
    "La idea es asignar True/False si el modelo más frecuente relacionado al user es uno de los tops (mas viewed/checkout/conversion)"
   ]
  },
  {
   "cell_type": "code",
   "execution_count": 4,
   "metadata": {},
   "outputs": [
    {
     "name": "stdout",
     "output_type": "stream",
     "text": [
      "Para estar en el top 10% de checkouts un modelo requiere tener 798 eventos checkout\n",
      "Para estar en el top 10% de conversions un modelo requiere tener 94 eventos conversion\n",
      "Para estar en el top 10% de viewed un modelo requiere tener 14002 eventos viewed\n",
      "Modelos Top: {'Samsung Galaxy J7 Prime', 'Motorola Moto G2 3G Dual', 'Samsung Galaxy S6 Flat', 'iPhone SE', 'Samsung Galaxy J5', 'Samsung Galaxy S8 Plus', 'Samsung Galaxy A7 2017', 'Samsung Galaxy S7 Edge', 'iPhone 7 Plus', 'Samsung Galaxy Gran Prime Duos TV', 'Samsung Galaxy S5', 'iPhone 5c', 'iPhone 6 Plus', 'Samsung Galaxy J2 Prime TV', 'iPhone 6', 'Samsung Galaxy J7', 'Samsung Galaxy S7', 'iPhone 6S', 'iPhone 5s', 'Motorola Moto G4 Plus', 'Samsung Galaxy S8', 'iPhone 5', 'iPhone 4S', 'iPhone 7', 'Samsung Galaxy A5 2017', 'iPhone 6S Plus', 'Samsung Galaxy S6 Edge'}\n"
     ]
    }
   ],
   "source": [
    "por_modelo = events.groupby(['model','event']).agg({'event':'count'}).unstack(fill_value=0)\n",
    "por_modelo.columns = por_modelo.columns.droplevel(level=0).astype(object)\n",
    "q=0.9\n",
    "porcentaje = round((1-q)*100)\n",
    "limite_viewed = por_modelo['viewed product'].quantile(q)\n",
    "limite_conversion = por_modelo.conversion.quantile(q)\n",
    "limite_checkout = por_modelo.checkout.quantile(q)\n",
    "print(\"Para estar en el top {}% de checkouts un modelo requiere tener {} eventos checkout\".format(porcentaje,round(limite_checkout)))\n",
    "print(\"Para estar en el top {}% de conversions un modelo requiere tener {} eventos conversion\".format(porcentaje,round(limite_conversion)))\n",
    "print(\"Para estar en el top {}% de viewed un modelo requiere tener {} eventos viewed\".format(porcentaje,round(limite_viewed)))\n",
    "top_viewed = por_modelo['viewed product'] > limite_viewed\n",
    "top_checkout = por_modelo.checkout > limite_checkout\n",
    "top_conversion = por_modelo.conversion > limite_conversion\n",
    "top_modelos = por_modelo.loc[top_viewed | top_checkout | top_conversion]\n",
    "top_modelos = set(top_modelos.index)\n",
    "print(\"Modelos Top: {}\".format(top_modelos))"
   ]
  },
  {
   "cell_type": "code",
   "execution_count": 5,
   "metadata": {},
   "outputs": [],
   "source": [
    "frecuencia_modelos_por_persona = events.groupby(['person']).model.value_counts().unstack(fill_value=0)\n",
    "frecuencia_modelos_por_persona['most_frequent_model'] = frecuencia_modelos_por_persona.idxmax(axis=1)\n",
    "features = pd.DataFrame(data=frecuencia_modelos_por_persona.most_frequent_model,columns=['most_frequent_model'])\n",
    "features['is_most_frequent_model_top'] = features.most_frequent_model.isin(top_modelos)"
   ]
  },
  {
   "cell_type": "code",
   "execution_count": 6,
   "metadata": {},
   "outputs": [
    {
     "data": {
      "text/html": [
       "<div>\n",
       "<style scoped>\n",
       "    .dataframe tbody tr th:only-of-type {\n",
       "        vertical-align: middle;\n",
       "    }\n",
       "\n",
       "    .dataframe tbody tr th {\n",
       "        vertical-align: top;\n",
       "    }\n",
       "\n",
       "    .dataframe thead th {\n",
       "        text-align: right;\n",
       "    }\n",
       "</style>\n",
       "<table border=\"1\" class=\"dataframe\">\n",
       "  <thead>\n",
       "    <tr style=\"text-align: right;\">\n",
       "      <th></th>\n",
       "      <th>most_frequent_model</th>\n",
       "      <th>is_most_frequent_model_top</th>\n",
       "    </tr>\n",
       "    <tr>\n",
       "      <th>person</th>\n",
       "      <th></th>\n",
       "      <th></th>\n",
       "    </tr>\n",
       "  </thead>\n",
       "  <tbody>\n",
       "    <tr>\n",
       "      <th>0008ed71</th>\n",
       "      <td>LG G4 H818P</td>\n",
       "      <td>False</td>\n",
       "    </tr>\n",
       "    <tr>\n",
       "      <th>00091926</th>\n",
       "      <td>iPhone 6S</td>\n",
       "      <td>True</td>\n",
       "    </tr>\n",
       "    <tr>\n",
       "      <th>00091a7a</th>\n",
       "      <td>iPhone 6</td>\n",
       "      <td>True</td>\n",
       "    </tr>\n",
       "    <tr>\n",
       "      <th>000ba417</th>\n",
       "      <td>Samsung Galaxy A3 Duos</td>\n",
       "      <td>False</td>\n",
       "    </tr>\n",
       "    <tr>\n",
       "      <th>000c79fe</th>\n",
       "      <td>iPhone 7</td>\n",
       "      <td>True</td>\n",
       "    </tr>\n",
       "  </tbody>\n",
       "</table>\n",
       "</div>"
      ],
      "text/plain": [
       "             most_frequent_model  is_most_frequent_model_top\n",
       "person                                                      \n",
       "0008ed71             LG G4 H818P                       False\n",
       "00091926               iPhone 6S                        True\n",
       "00091a7a                iPhone 6                        True\n",
       "000ba417  Samsung Galaxy A3 Duos                       False\n",
       "000c79fe                iPhone 7                        True"
      ]
     },
     "execution_count": 6,
     "metadata": {},
     "output_type": "execute_result"
    }
   ],
   "source": [
    "features.to_csv(\"features_top_model.csv\")\n",
    "features.head()"
   ]
  }
 ],
 "metadata": {
  "kernelspec": {
   "display_name": "Python 3",
   "language": "python",
   "name": "python3"
  },
  "language_info": {
   "codemirror_mode": {
    "name": "ipython",
    "version": 3
   },
   "file_extension": ".py",
   "mimetype": "text/x-python",
   "name": "python",
   "nbconvert_exporter": "python",
   "pygments_lexer": "ipython3",
   "version": "3.6.5"
  }
 },
 "nbformat": 4,
 "nbformat_minor": 2
}
