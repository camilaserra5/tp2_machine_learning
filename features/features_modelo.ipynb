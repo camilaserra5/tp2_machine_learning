{
 "cells": [
  {
   "cell_type": "code",
   "execution_count": 1,
   "metadata": {},
   "outputs": [],
   "source": [
    "import pandas as pd\n",
    "import numpy as np\n",
    "import datetime\n",
    "from datetime import datetime, timedelta\n",
    "import utils\n",
    "import warnings\n",
    "warnings.simplefilter(action='ignore', category=FutureWarning)\n",
    "warnings.simplefilter(action='ignore', category=RuntimeWarning)"
   ]
  },
  {
   "cell_type": "code",
   "execution_count": 2,
   "metadata": {},
   "outputs": [],
   "source": [
    "events = utils.get_events()"
   ]
  },
  {
   "cell_type": "code",
   "execution_count": 3,
   "metadata": {},
   "outputs": [],
   "source": [
    "# Comenzaremos realizando un TF_idf de as busquedas\n",
    "from sklearn.feature_extraction.text import TfidfVectorizer\n",
    "vectorizer = TfidfVectorizer()"
   ]
  },
  {
   "cell_type": "code",
   "execution_count": 4,
   "metadata": {},
   "outputs": [],
   "source": [
    "# Me quedo con los usuarios que tiene busquedas\n",
    "modelos = events[events['model'].notnull()][['model','person']]\n",
    "\n",
    "# Calculo de Tf_Idf\n",
    "modelos_totales = modelos['model'].tolist()\n",
    "IDF = vectorizer.fit_transform(modelos_totales)\n",
    "\n",
    "# Asigno los TFIdf a cada busqueda\n",
    "resultados = []\n",
    "for x in range(len(modelos)):\n",
    "    resultados.append(IDF[x].sum()) \n",
    "\n",
    "modelos['TfIdf'] = resultados\n",
    "modelos_tfidf = modelos[['person','TfIdf']]\n",
    "\n",
    "# Agrupo por persona y calculo el promedio de los TFIdf\n",
    "modelos_por_usuario = modelos_tfidf.groupby('person')['TfIdf'].agg({'promedio de TFIdf modelo':'mean','Suma de TFidf modelo':sum,'Maximo de TFIdf modelo':max,'Minimo de TFIdf modelo':min}).reset_index()"
   ]
  },
  {
   "cell_type": "code",
   "execution_count": 5,
   "metadata": {},
   "outputs": [
    {
     "data": {
      "text/html": [
       "<div>\n",
       "<style scoped>\n",
       "    .dataframe tbody tr th:only-of-type {\n",
       "        vertical-align: middle;\n",
       "    }\n",
       "\n",
       "    .dataframe tbody tr th {\n",
       "        vertical-align: top;\n",
       "    }\n",
       "\n",
       "    .dataframe thead th {\n",
       "        text-align: right;\n",
       "    }\n",
       "</style>\n",
       "<table border=\"1\" class=\"dataframe\">\n",
       "  <thead>\n",
       "    <tr style=\"text-align: right;\">\n",
       "      <th></th>\n",
       "      <th>person</th>\n",
       "      <th>promedio de TFIdf modelo</th>\n",
       "      <th>Suma de TFidf modelo</th>\n",
       "      <th>Maximo de TFIdf modelo</th>\n",
       "      <th>Minimo de TFIdf modelo</th>\n",
       "    </tr>\n",
       "  </thead>\n",
       "  <tbody>\n",
       "    <tr>\n",
       "      <th>0</th>\n",
       "      <td>0008ed71</td>\n",
       "      <td>1.617163</td>\n",
       "      <td>4.851488</td>\n",
       "      <td>1.859879</td>\n",
       "      <td>1.300103</td>\n",
       "    </tr>\n",
       "    <tr>\n",
       "      <th>1</th>\n",
       "      <td>00091926</td>\n",
       "      <td>1.490856</td>\n",
       "      <td>557.580165</td>\n",
       "      <td>2.209395</td>\n",
       "      <td>1.000000</td>\n",
       "    </tr>\n",
       "    <tr>\n",
       "      <th>2</th>\n",
       "      <td>00091a7a</td>\n",
       "      <td>1.219303</td>\n",
       "      <td>3.657909</td>\n",
       "      <td>1.357806</td>\n",
       "      <td>1.000000</td>\n",
       "    </tr>\n",
       "    <tr>\n",
       "      <th>3</th>\n",
       "      <td>000ba417</td>\n",
       "      <td>1.798317</td>\n",
       "      <td>287.730661</td>\n",
       "      <td>2.299973</td>\n",
       "      <td>1.000000</td>\n",
       "    </tr>\n",
       "    <tr>\n",
       "      <th>4</th>\n",
       "      <td>000c79fe</td>\n",
       "      <td>1.000000</td>\n",
       "      <td>4.000000</td>\n",
       "      <td>1.000000</td>\n",
       "      <td>1.000000</td>\n",
       "    </tr>\n",
       "  </tbody>\n",
       "</table>\n",
       "</div>"
      ],
      "text/plain": [
       "     person  promedio de TFIdf modelo  Suma de TFidf modelo  \\\n",
       "0  0008ed71                  1.617163              4.851488   \n",
       "1  00091926                  1.490856            557.580165   \n",
       "2  00091a7a                  1.219303              3.657909   \n",
       "3  000ba417                  1.798317            287.730661   \n",
       "4  000c79fe                  1.000000              4.000000   \n",
       "\n",
       "   Maximo de TFIdf modelo  Minimo de TFIdf modelo  \n",
       "0                1.859879                1.300103  \n",
       "1                2.209395                1.000000  \n",
       "2                1.357806                1.000000  \n",
       "3                2.299973                1.000000  \n",
       "4                1.000000                1.000000  "
      ]
     },
     "execution_count": 5,
     "metadata": {},
     "output_type": "execute_result"
    }
   ],
   "source": [
    "modelos_por_usuario.fillna(0,inplace=True)\n",
    "modelos_por_usuario.head()"
   ]
  },
  {
   "cell_type": "code",
   "execution_count": 6,
   "metadata": {},
   "outputs": [],
   "source": [
    "modelos_por_usuario.to_csv('features_modelo.csv',index=False)"
   ]
  },
  {
   "cell_type": "code",
   "execution_count": null,
   "metadata": {},
   "outputs": [],
   "source": []
  }
 ],
 "metadata": {
  "kernelspec": {
   "display_name": "Python 3",
   "language": "python",
   "name": "python3"
  },
  "language_info": {
   "codemirror_mode": {
    "name": "ipython",
    "version": 3
   },
   "file_extension": ".py",
   "mimetype": "text/x-python",
   "name": "python",
   "nbconvert_exporter": "python",
   "pygments_lexer": "ipython3",
   "version": "3.6.5"
  }
 },
 "nbformat": 4,
 "nbformat_minor": 2
}
