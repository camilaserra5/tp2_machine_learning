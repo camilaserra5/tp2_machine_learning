{
 "cells": [
  {
   "cell_type": "code",
   "execution_count": 1,
   "metadata": {},
   "outputs": [],
   "source": [
    "import pandas as pd\n",
    "import numpy as np\n",
    "import datetime\n",
    "from datetime import datetime, timedelta\n",
    "import utils\n",
    "import warnings\n",
    "warnings.simplefilter(action='ignore', category=FutureWarning)\n",
    "warnings.simplefilter(action='ignore', category=RuntimeWarning)"
   ]
  },
  {
   "cell_type": "code",
   "execution_count": 2,
   "metadata": {},
   "outputs": [],
   "source": [
    "events = utils.get_events()"
   ]
  },
  {
   "cell_type": "code",
   "execution_count": 3,
   "metadata": {},
   "outputs": [],
   "source": [
    "# Comenzaremos realizando un TF_idf de as busquedas\n",
    "from sklearn.feature_extraction.text import TfidfVectorizer\n",
    "vectorizer = TfidfVectorizer()"
   ]
  },
  {
   "cell_type": "code",
   "execution_count": null,
   "metadata": {},
   "outputs": [],
   "source": [
    "# Me quedo con los usuarios que tiene busquedas\n",
    "modelos = events[events['model'].notnull()][['model','person']]\n",
    "\n",
    "# Calculo de Tf_Idf\n",
    "modelos_totales = modelos['model'].tolist()\n",
    "IDF = vectorizer.fit_transform(modelos_totales)\n",
    "\n",
    "# Asigno los TFIdf a cada busqueda\n",
    "resultados = []\n",
    "for x in range(len(modelos)):\n",
    "    resultados.append(IDF[x].sum()) \n",
    "\n",
    "modelos['TfIdf'] = resultados\n",
    "modelos_tfidf = modelos[['person','TfIdf']]\n",
    "\n",
    "# Agrupo por persona y calculo el promedio de los TFIdf\n",
    "modelos_por_usuario = modelos_tfidf.groupby('person')['TfIdf'].agg({'promedio de TFIdf modelo':'mean','Suma de TFidf modelo':sum,'Maximo de TFIdf modelo':max,'Minimo de TFIdf modelo':min}).reset_index()"
   ]
  },
  {
   "cell_type": "code",
   "execution_count": null,
   "metadata": {},
   "outputs": [],
   "source": [
    "modelos_por_usuario.fillna(0,inplace=True)\n",
    "modelos_por_usuario.head()"
   ]
  },
  {
   "cell_type": "code",
   "execution_count": null,
   "metadata": {},
   "outputs": [],
   "source": [
    "modelos_por_usuario.to_csv('features_modelo.csv',index=True)"
   ]
  },
  {
   "cell_type": "code",
   "execution_count": null,
   "metadata": {},
   "outputs": [],
   "source": []
  }
 ],
 "metadata": {
  "kernelspec": {
   "display_name": "Python 3",
   "language": "python",
   "name": "python3"
  },
  "language_info": {
   "codemirror_mode": {
    "name": "ipython",
    "version": 3
   },
   "file_extension": ".py",
   "mimetype": "text/x-python",
   "name": "python",
   "nbconvert_exporter": "python",
   "pygments_lexer": "ipython3",
   "version": "3.6.6"
  }
 },
 "nbformat": 4,
 "nbformat_minor": 2
}
