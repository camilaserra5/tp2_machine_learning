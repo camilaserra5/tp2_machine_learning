{
 "cells": [
  {
   "cell_type": "markdown",
   "metadata": {},
   "source": [
    "## En este notebook juntaremos todos los features optimos a utilizar en el entrenamiento del modelo, con el fin de predecir de la mejor manera las probabilidades de compra de los usuarios."
   ]
  },
  {
   "cell_type": "code",
   "execution_count": 1,
   "metadata": {},
   "outputs": [],
   "source": [
    "# imports iniciales\n",
    "import pandas as pd\n",
    "import numpy as np\n",
    "import datetime\n",
    "from datetime import datetime, timedelta\n",
    "import utils\n",
    "import os\n",
    "import warnings\n",
    "warnings.simplefilter(action='ignore', category=FutureWarning)\n",
    "warnings.simplefilter(action='ignore', category=RuntimeWarning)"
   ]
  },
  {
   "cell_type": "code",
   "execution_count": 2,
   "metadata": {},
   "outputs": [
    {
     "data": {
      "text/plain": [
       "(38829, 1)"
      ]
     },
     "execution_count": 2,
     "metadata": {},
     "output_type": "execute_result"
    }
   ],
   "source": [
    "events = pd.read_csv('events_up_to_01062018.csv',low_memory=False)\n",
    "events = events['person'].drop_duplicates().to_frame()\n",
    "events.shape"
   ]
  },
  {
   "cell_type": "code",
   "execution_count": 3,
   "metadata": {},
   "outputs": [],
   "source": [
    "#Corremos todos los notebooks que queremos utilizar para generar los features\n",
    "%run ./features_busquedas.ipynb"
   ]
  },
  {
   "cell_type": "code",
   "execution_count": 4,
   "metadata": {},
   "outputs": [],
   "source": [
    "%run ./features_basicos.ipynb"
   ]
  },
  {
   "cell_type": "code",
   "execution_count": 5,
   "metadata": {},
   "outputs": [],
   "source": [
    "%run ./features_utilies.ipynb"
   ]
  },
  {
   "cell_type": "code",
   "execution_count": 6,
   "metadata": {},
   "outputs": [],
   "source": [
    "%run ./features_sesiones.ipynb"
   ]
  },
  {
   "cell_type": "code",
   "execution_count": 7,
   "metadata": {},
   "outputs": [],
   "source": [
    "%run ./features_system.ipynb"
   ]
  },
  {
   "cell_type": "code",
   "execution_count": 8,
   "metadata": {},
   "outputs": [],
   "source": [
    "%run ./features_ad_campaing.ipynb"
   ]
  },
  {
   "cell_type": "code",
   "execution_count": 9,
   "metadata": {},
   "outputs": [],
   "source": [
    "%run ./features_caracteristicas_telefonos_vistos.ipynb"
   ]
  },
  {
   "cell_type": "code",
   "execution_count": 10,
   "metadata": {},
   "outputs": [],
   "source": [
    "%run ./features_productos_vistos.ipynb"
   ]
  },
  {
   "cell_type": "code",
   "execution_count": 11,
   "metadata": {},
   "outputs": [],
   "source": [
    "%run ./features_productos_checkouts.ipynb"
   ]
  },
  {
   "cell_type": "code",
   "execution_count": 12,
   "metadata": {},
   "outputs": [],
   "source": [
    "%run ./features_dispositivos.ipynb"
   ]
  },
  {
   "cell_type": "code",
   "execution_count": 13,
   "metadata": {},
   "outputs": [],
   "source": [
    "%run ./features_location.ipynb"
   ]
  },
  {
   "cell_type": "code",
   "execution_count": 14,
   "metadata": {},
   "outputs": [],
   "source": [
    "%run ./features_top_model.ipynb"
   ]
  },
  {
   "cell_type": "code",
   "execution_count": 15,
   "metadata": {},
   "outputs": [],
   "source": [
    "%run ./features_dias.ipynb"
   ]
  },
  {
   "cell_type": "code",
   "execution_count": 16,
   "metadata": {},
   "outputs": [
    {
     "name": "stderr",
     "output_type": "stream",
     "text": [
      "./features_fechas_int.ipynb:8: SettingWithCopyWarning: \n",
      "A value is trying to be set on a copy of a slice from a DataFrame.\n",
      "Try using .loc[row_indexer,col_indexer] = value instead\n",
      "\n",
      "See the caveats in the documentation: http://pandas.pydata.org/pandas-docs/stable/indexing.html#indexing-view-versus-copy\n",
      "  \"source\": [\n"
     ]
    }
   ],
   "source": [
    "%run ./features_fechas_int.ipynb"
   ]
  },
  {
   "cell_type": "code",
   "execution_count": 17,
   "metadata": {},
   "outputs": [],
   "source": [
    "%run ./features_modelo.ipynb"
   ]
  },
  {
   "cell_type": "code",
   "execution_count": 19,
   "metadata": {},
   "outputs": [
    {
     "name": "stderr",
     "output_type": "stream",
     "text": [
      "/home/camila/anaconda3/lib/python3.6/site-packages/pandas/core/generic.py:5430: SettingWithCopyWarning: \n",
      "A value is trying to be set on a copy of a slice from a DataFrame\n",
      "\n",
      "See the caveats in the documentation: http://pandas.pydata.org/pandas-docs/stable/indexing.html#indexing-view-versus-copy\n",
      "  self._update_inplace(new_data)\n",
      "./features_screen_resolution.ipynb:8: SettingWithCopyWarning: \n",
      "A value is trying to be set on a copy of a slice from a DataFrame.\n",
      "Try using .loc[row_indexer,col_indexer] = value instead\n",
      "\n",
      "See the caveats in the documentation: http://pandas.pydata.org/pandas-docs/stable/indexing.html#indexing-view-versus-copy\n",
      "  \"source\": [\n"
     ]
    }
   ],
   "source": [
    "%run ./features_screen_resolution.ipynb"
   ]
  },
  {
   "cell_type": "code",
   "execution_count": 20,
   "metadata": {},
   "outputs": [],
   "source": [
    "features_basicos = pd.read_csv('features_basicos.csv',low_memory=False)\n",
    "features_utilies = pd.read_csv('features.csv',low_memory=False)\n",
    "features_caracteristicas = pd.read_csv('features_caracteristicas_vistos.csv', low_memory = False)\n",
    "features_ad_campaign = pd.read_csv('features_ad_campaing.csv',low_memory=False)\n",
    "features_sessions = pd.read_csv('features_session.csv',low_memory=False)\n",
    "features_busquedas = pd.read_csv('features_busquedas.csv',low_memory=False)\n",
    "features_system = pd.read_csv('features_system.csv',low_memory=False)\n",
    "features_productos_vistos = pd.read_csv('features_productos_vistos.csv',low_memory=False)\n",
    "features_productos_checkouts = pd.read_csv('features_productos_checkouts.csv',low_memory=False)\n",
    "features_dispositivos = pd.read_csv('features_dispositivos.csv',low_memory=False)\n",
    "features_location = pd.read_csv('features_location.csv',low_memory=False)\n",
    "features_top_model = pd.read_csv('features_top_model.csv',low_memory=False)\n",
    "features_dias = pd.read_csv('features_dias.csv', low_memory=False)\n",
    "features_fechas_int = pd.read_csv('features_fechas_int.csv', low_memory=False)\n",
    "features_screen_resolution = pd.read_csv('features_screen_resolution.csv', low_memory=False)\n",
    "features_modelo = pd.read_csv('features_modelo.csv', low_memory=False)"
   ]
  },
  {
   "cell_type": "code",
   "execution_count": 31,
   "metadata": {},
   "outputs": [
    {
     "data": {
      "text/html": [
       "<div>\n",
       "<style scoped>\n",
       "    .dataframe tbody tr th:only-of-type {\n",
       "        vertical-align: middle;\n",
       "    }\n",
       "\n",
       "    .dataframe tbody tr th {\n",
       "        vertical-align: top;\n",
       "    }\n",
       "\n",
       "    .dataframe thead th {\n",
       "        text-align: right;\n",
       "    }\n",
       "</style>\n",
       "<table border=\"1\" class=\"dataframe\">\n",
       "  <thead>\n",
       "    <tr style=\"text-align: right;\">\n",
       "      <th></th>\n",
       "      <th>person</th>\n",
       "      <th>Direct</th>\n",
       "      <th>Email</th>\n",
       "      <th>Organic</th>\n",
       "      <th>Paid</th>\n",
       "      <th>Referral</th>\n",
       "      <th>Social</th>\n",
       "      <th>ad campaign hit</th>\n",
       "      <th>brand listing</th>\n",
       "      <th>checkout</th>\n",
       "      <th>...</th>\n",
       "      <th>mes_May</th>\n",
       "      <th>suma</th>\n",
       "      <th>promedio</th>\n",
       "      <th>maximo</th>\n",
       "      <th>minimo</th>\n",
       "      <th>Unnamed: 0</th>\n",
       "      <th>promedio de TFIdf modelo</th>\n",
       "      <th>Suma de TFidf modelo</th>\n",
       "      <th>Maximo de TFIdf modelo</th>\n",
       "      <th>Minimo de TFIdf modelo</th>\n",
       "    </tr>\n",
       "  </thead>\n",
       "  <tbody>\n",
       "    <tr>\n",
       "      <th>0</th>\n",
       "      <td>0008ed71</td>\n",
       "      <td>2.0</td>\n",
       "      <td>0.0</td>\n",
       "      <td>0.0</td>\n",
       "      <td>0.0</td>\n",
       "      <td>0.0</td>\n",
       "      <td>0.0</td>\n",
       "      <td>0</td>\n",
       "      <td>0</td>\n",
       "      <td>3</td>\n",
       "      <td>...</td>\n",
       "      <td>6.0</td>\n",
       "      <td>121083102878903</td>\n",
       "      <td>2.018052e+13</td>\n",
       "      <td>20180517162837</td>\n",
       "      <td>20180517122747</td>\n",
       "      <td>0.0</td>\n",
       "      <td>1.617163</td>\n",
       "      <td>4.851488</td>\n",
       "      <td>1.859879</td>\n",
       "      <td>1.300103</td>\n",
       "    </tr>\n",
       "    <tr>\n",
       "      <th>1</th>\n",
       "      <td>00091926</td>\n",
       "      <td>1.0</td>\n",
       "      <td>0.0</td>\n",
       "      <td>25.0</td>\n",
       "      <td>0.0</td>\n",
       "      <td>0.0</td>\n",
       "      <td>0.0</td>\n",
       "      <td>15</td>\n",
       "      <td>25</td>\n",
       "      <td>2</td>\n",
       "      <td>...</td>\n",
       "      <td>448.0</td>\n",
       "      <td>9040871528715832</td>\n",
       "      <td>2.018052e+13</td>\n",
       "      <td>20180531195203</td>\n",
       "      <td>20180503220829</td>\n",
       "      <td>1.0</td>\n",
       "      <td>1.490856</td>\n",
       "      <td>557.580165</td>\n",
       "      <td>2.209395</td>\n",
       "      <td>1.000000</td>\n",
       "    </tr>\n",
       "    <tr>\n",
       "      <th>2</th>\n",
       "      <td>00091a7a</td>\n",
       "      <td>0.0</td>\n",
       "      <td>0.0</td>\n",
       "      <td>0.0</td>\n",
       "      <td>0.0</td>\n",
       "      <td>0.0</td>\n",
       "      <td>0.0</td>\n",
       "      <td>1</td>\n",
       "      <td>5</td>\n",
       "      <td>0</td>\n",
       "      <td>...</td>\n",
       "      <td>0.0</td>\n",
       "      <td>201803261454582</td>\n",
       "      <td>2.018033e+13</td>\n",
       "      <td>20180326145658</td>\n",
       "      <td>20180326145111</td>\n",
       "      <td>2.0</td>\n",
       "      <td>1.219303</td>\n",
       "      <td>3.657909</td>\n",
       "      <td>1.357806</td>\n",
       "      <td>1.000000</td>\n",
       "    </tr>\n",
       "    <tr>\n",
       "      <th>3</th>\n",
       "      <td>000ba417</td>\n",
       "      <td>0.0</td>\n",
       "      <td>0.0</td>\n",
       "      <td>6.0</td>\n",
       "      <td>0.0</td>\n",
       "      <td>0.0</td>\n",
       "      <td>0.0</td>\n",
       "      <td>1</td>\n",
       "      <td>24</td>\n",
       "      <td>6</td>\n",
       "      <td>...</td>\n",
       "      <td>206.0</td>\n",
       "      <td>4157187614421402</td>\n",
       "      <td>2.018052e+13</td>\n",
       "      <td>20180526130922</td>\n",
       "      <td>20180517111145</td>\n",
       "      <td>3.0</td>\n",
       "      <td>1.798317</td>\n",
       "      <td>287.730661</td>\n",
       "      <td>2.299973</td>\n",
       "      <td>1.000000</td>\n",
       "    </tr>\n",
       "    <tr>\n",
       "      <th>4</th>\n",
       "      <td>000c79fe</td>\n",
       "      <td>0.0</td>\n",
       "      <td>0.0</td>\n",
       "      <td>0.0</td>\n",
       "      <td>0.0</td>\n",
       "      <td>0.0</td>\n",
       "      <td>0.0</td>\n",
       "      <td>1</td>\n",
       "      <td>0</td>\n",
       "      <td>1</td>\n",
       "      <td>...</td>\n",
       "      <td>17.0</td>\n",
       "      <td>343068993055724</td>\n",
       "      <td>2.018053e+13</td>\n",
       "      <td>20180529003807</td>\n",
       "      <td>20180529002747</td>\n",
       "      <td>4.0</td>\n",
       "      <td>1.000000</td>\n",
       "      <td>4.000000</td>\n",
       "      <td>1.000000</td>\n",
       "      <td>1.000000</td>\n",
       "    </tr>\n",
       "  </tbody>\n",
       "</table>\n",
       "<p>5 rows × 190 columns</p>\n",
       "</div>"
      ],
      "text/plain": [
       "     person  Direct  Email  Organic  Paid  Referral  Social  ad campaign hit  \\\n",
       "0  0008ed71     2.0    0.0      0.0   0.0       0.0     0.0                0   \n",
       "1  00091926     1.0    0.0     25.0   0.0       0.0     0.0               15   \n",
       "2  00091a7a     0.0    0.0      0.0   0.0       0.0     0.0                1   \n",
       "3  000ba417     0.0    0.0      6.0   0.0       0.0     0.0                1   \n",
       "4  000c79fe     0.0    0.0      0.0   0.0       0.0     0.0                1   \n",
       "\n",
       "   brand listing  checkout           ...            mes_May              suma  \\\n",
       "0              0         3           ...                6.0   121083102878903   \n",
       "1             25         2           ...              448.0  9040871528715832   \n",
       "2              5         0           ...                0.0   201803261454582   \n",
       "3             24         6           ...              206.0  4157187614421402   \n",
       "4              0         1           ...               17.0   343068993055724   \n",
       "\n",
       "       promedio          maximo          minimo  Unnamed: 0  \\\n",
       "0  2.018052e+13  20180517162837  20180517122747         0.0   \n",
       "1  2.018052e+13  20180531195203  20180503220829         1.0   \n",
       "2  2.018033e+13  20180326145658  20180326145111         2.0   \n",
       "3  2.018052e+13  20180526130922  20180517111145         3.0   \n",
       "4  2.018053e+13  20180529003807  20180529002747         4.0   \n",
       "\n",
       "   promedio de TFIdf modelo  Suma de TFidf modelo  Maximo de TFIdf modelo  \\\n",
       "0                  1.617163              4.851488                1.859879   \n",
       "1                  1.490856            557.580165                2.209395   \n",
       "2                  1.219303              3.657909                1.357806   \n",
       "3                  1.798317            287.730661                2.299973   \n",
       "4                  1.000000              4.000000                1.000000   \n",
       "\n",
       "   Minimo de TFIdf modelo  \n",
       "0                1.300103  \n",
       "1                1.000000  \n",
       "2                1.000000  \n",
       "3                1.000000  \n",
       "4                1.000000  \n",
       "\n",
       "[5 rows x 190 columns]"
      ]
     },
     "execution_count": 31,
     "metadata": {},
     "output_type": "execute_result"
    }
   ],
   "source": [
    "features = utils.merge_features([features_basicos,\n",
    "                                 features_utilies,\n",
    "                                 features_caracteristicas,\n",
    "                                 features_ad_campaign,\n",
    "                                 features_system, \n",
    "                                 features_sessions,\n",
    "                                 features_busquedas,\n",
    "                                 features_productos_vistos,\n",
    "                                 features_productos_checkouts,\n",
    "                                 features_dispositivos,\n",
    "                                 features_location,\n",
    "                                 features_top_model,\n",
    "                                 features_dias,\n",
    "                                 features_fechas_int,\n",
    "                                 #features_screen_resolution,\n",
    "                                 features_modelo\n",
    "                                 ])\n",
    "\n",
    "\n",
    "features=features.fillna(0)\n",
    "features.head()"
   ]
  },
  {
   "cell_type": "code",
   "execution_count": 32,
   "metadata": {},
   "outputs": [],
   "source": [
    "# Se guardan los features finales en un csv en la carpeta modelos, para que lo levante el modlo a entrenar\n",
    "features.to_csv('../modelos/data_set.csv',index=False)"
   ]
  },
  {
   "cell_type": "code",
   "execution_count": 33,
   "metadata": {},
   "outputs": [],
   "source": [
    "#Limpieza de csvs para dejar la carpeta limpia\n",
    "os.remove('features_basicos.csv')\n",
    "os.remove('features.csv')\n",
    "os.remove('features_caracteristicas_vistos.csv')\n",
    "os.remove('features_ad_campaing.csv')\n",
    "os.remove('features_session.csv')\n",
    "os.remove('features_busquedas.csv')\n",
    "os.remove('features_system.csv')\n",
    "os.remove('features_productos_vistos.csv')\n",
    "os.remove('features_productos_checkouts.csv')\n",
    "os.remove('features_dispositivos.csv')\n",
    "os.remove('features_location.csv')\n",
    "os.remove('features_top_model.csv')\n",
    "os.remove('features_dias.csv')\n",
    "os.remove('features_fechas_int.csv')"
   ]
  },
  {
   "cell_type": "code",
   "execution_count": 34,
   "metadata": {},
   "outputs": [
    {
     "data": {
      "text/plain": [
       "array(['person', 'Direct', 'Email', 'Organic', 'Paid', 'Referral',\n",
       "       'Social', 'ad campaign hit', 'brand listing', 'checkout',\n",
       "       'conversion', 'generic listing', 'lead', 'search engine hit',\n",
       "       'searched products', 'staticpage', 'viewed product',\n",
       "       'visited site', 'promedio dias', 'promedio hora', 'retornos',\n",
       "       'storage_128GB', 'storage_16GB', 'storage_256GB', 'storage_32GB',\n",
       "       'storage_4GB', 'storage_512MB', 'storage_64GB', 'storage_8GB',\n",
       "       'condition_Bom', 'condition_Bom - Sem Touch ID',\n",
       "       'condition_Excelente', 'condition_Muito Bom', 'condition_Novo',\n",
       "       'marca_Asus', 'marca_LG', 'marca_Lenovo', 'marca_Motorola',\n",
       "       'marca_Outros', 'marca_Quantum', 'marca_Samsung', 'marca_Sony',\n",
       "       'marca_Xiaomi', 'marca_iPad', 'marca_iPhone', 'color_Amarelo',\n",
       "       'color_Ametista', 'color_Azul', 'color_Azul Escuro',\n",
       "       'color_Azul Safira', 'color_Azul Topázio', 'color_Bambu',\n",
       "       'color_Black Piano', 'color_Branco', 'color_Branco Azul',\n",
       "       'color_Branco Azul Navy', 'color_Branco Bambu',\n",
       "       'color_Branco Cabernet', 'color_Branco Dourado',\n",
       "       'color_Branco Framboesa', 'color_Branco Pink',\n",
       "       'color_Branco Verde', 'color_Branco Vermelho', 'color_Cabernet',\n",
       "       'color_Cinza', 'color_Cinza espacial', 'color_Cobre',\n",
       "       'color_Coral', 'color_Couro Marrom', 'color_Couro Navy',\n",
       "       'color_Couro Vinho', 'color_Couro Vintage', 'color_Cromo',\n",
       "       'color_Dourado', 'color_Framboesa', 'color_Indigo', 'color_Iuna',\n",
       "       'color_Olympic Edition', 'color_Ouro', 'color_Ouro Rosa',\n",
       "       'color_Platinum', 'color_Prata', 'color_Prateado', 'color_Preto',\n",
       "       'color_Preto Asfalto', 'color_Preto Azul', 'color_Preto Azul Navy',\n",
       "       'color_Preto Bambu', 'color_Preto Branco', 'color_Preto Brilhante',\n",
       "       'color_Preto Cabernet', 'color_Preto Matte', 'color_Preto Pink',\n",
       "       'color_Preto Tabaco', 'color_Preto Verde', 'color_Preto Vermelho',\n",
       "       'color_Rosa', 'color_Rose', 'color_Rouge', 'color_Roxo',\n",
       "       'color_Silver', 'color_Titânio', 'color_Turquesa', 'color_Verde',\n",
       "       'color_Verde Petroleo', 'color_Verde Água', 'color_Vermelho',\n",
       "       'color_Ônix', 'campaign_source_Facebook',\n",
       "       'campaign_source_FacebookAds', 'campaign_source_FacebookSocial',\n",
       "       'campaign_source_MARKETING SOCIAL', 'campaign_source_afiliado',\n",
       "       'campaign_source_afilio', 'campaign_source_bing',\n",
       "       'campaign_source_blog', 'campaign_source_buscape',\n",
       "       'campaign_source_criteo', 'campaign_source_datacrush',\n",
       "       'campaign_source_emblue', 'campaign_source_gizmodo',\n",
       "       'campaign_source_google', 'campaign_source_indexa',\n",
       "       'campaign_source_manifest', 'campaign_source_mercadopago',\n",
       "       'campaign_source_onsite', 'campaign_source_rakuten',\n",
       "       'campaign_source_rtbhouse', 'campaign_source_voxus',\n",
       "       'campaign_source_yotpo', 'campaign_source_zanox', 'coincide',\n",
       "       'sessions', 'total_time', 'mean_time_by_session',\n",
       "       'max_session_time', 'mean_events_by_session',\n",
       "       'max_events_by_session', 'days_since_last_session',\n",
       "       'longitud busqueda', 'promedio de TFIdf busquedas',\n",
       "       'Suma de TFidf busquedas', 'Maximo de TFIdf busquedas',\n",
       "       'Minimo de TFIdf busquedas', 'different_products_views',\n",
       "       'total_views', 'same_product_max_views', 'viewed/checkouted min',\n",
       "       'viewed/checkouted max', 'viewed/checkout gral', 'Computer',\n",
       "       'Smartphone', 'Tablet', 'country_Computer', 'country_Smartphone',\n",
       "       'country_Tablet', 'city', 'city_ranking', 'most_frequent_model',\n",
       "       'is_most_frequent_model_top', 'day', 'hora', 'hour', 'weekend',\n",
       "       'weekday_Friday', 'weekday_Monday', 'weekday_Saturday',\n",
       "       'weekday_Sunday', 'weekday_Thursday', 'weekday_Tuesday',\n",
       "       'weekday_Wednesday', 'periodo_madrugada', 'periodo_manana',\n",
       "       'periodo_mediodia', 'periodo_noche', 'periodo_tarde', 'mes_Apr',\n",
       "       'mes_Feb', 'mes_Jan', 'mes_Mar', 'mes_May', 'suma', 'promedio',\n",
       "       'maximo', 'minimo', 'Unnamed: 0', 'promedio de TFIdf modelo',\n",
       "       'Suma de TFidf modelo', 'Maximo de TFIdf modelo',\n",
       "       'Minimo de TFIdf modelo'], dtype=object)"
      ]
     },
     "execution_count": 34,
     "metadata": {},
     "output_type": "execute_result"
    }
   ],
   "source": [
    "features.columns.values"
   ]
  },
  {
   "cell_type": "code",
   "execution_count": 35,
   "metadata": {},
   "outputs": [
    {
     "data": {
      "text/plain": [
       "(38829, 190)"
      ]
     },
     "execution_count": 35,
     "metadata": {},
     "output_type": "execute_result"
    }
   ],
   "source": [
    "features.shape"
   ]
  },
  {
   "cell_type": "code",
   "execution_count": null,
   "metadata": {},
   "outputs": [],
   "source": []
  }
 ],
 "metadata": {
  "kernelspec": {
   "display_name": "Python 3",
   "language": "python",
   "name": "python3"
  },
  "language_info": {
   "codemirror_mode": {
    "name": "ipython",
    "version": 3
   },
   "file_extension": ".py",
   "mimetype": "text/x-python",
   "name": "python",
   "nbconvert_exporter": "python",
   "pygments_lexer": "ipython3",
   "version": "3.6.5"
  }
 },
 "nbformat": 4,
 "nbformat_minor": 2
}
