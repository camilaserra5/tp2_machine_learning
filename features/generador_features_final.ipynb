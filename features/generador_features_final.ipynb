{
 "cells": [
  {
   "cell_type": "markdown",
   "metadata": {},
   "source": [
    "## En este notebook juntaremos todos los features optimos a utilizar en el entrenamiento del modelo, con el fin de predecir de la mejor manera las probabilidades de compra de los usuarios."
   ]
  },
  {
   "cell_type": "code",
   "execution_count": 14,
   "metadata": {},
   "outputs": [],
   "source": [
    "# imports iniciales\n",
    "import pandas as pd\n",
    "import numpy as np\n",
    "import datetime\n",
    "from datetime import datetime, timedelta\n",
    "import utils\n",
    "import warnings\n",
    "warnings.simplefilter(action='ignore', category=FutureWarning)\n",
    "warnings.simplefilter(action='ignore', category=RuntimeWarning)"
   ]
  },
  {
   "cell_type": "code",
   "execution_count": 15,
   "metadata": {},
   "outputs": [],
   "source": [
    "# events = utils.get_events()\n",
    "features_basicos = pd.read_csv('features_basicos.csv',low_memory=False)\n",
    "features_utilies = pd.read_csv('features.csv',low_memory=False)\n",
    "#features_caracteristicas = pd.read_csv('features_caracteristicas.csv', low_memory = False)\n",
    "features_ad_campaign = pd.read_csv('features_ad_campaing.csv',low_memory=False)\n",
    "features_sessions = pd.read_csv('features_session.csv',low_memory=False)\n",
    "features_busquedas = pd.read_csv('features_busquedas.csv',low_memory=False)"
   ]
  },
  {
   "cell_type": "code",
   "execution_count": 16,
   "metadata": {},
   "outputs": [],
   "source": [
    "features = utils.merge_features([features_basicos,\n",
    "#                                features_caracteristicas,\n",
    "                                features_ad_campaign,\n",
    "                                features_sessions,\n",
    "                                features_busquedas])\n",
    "features['promedio de TFIdf'].fillna(0,inplace=True)"
   ]
  },
  {
   "cell_type": "code",
   "execution_count": 17,
   "metadata": {},
   "outputs": [],
   "source": [
    "features = pd.merge(features_basicos,features_utilies, on = 'person', how = 'inner')"
   ]
  },
  {
   "cell_type": "code",
   "execution_count": 18,
   "metadata": {},
   "outputs": [],
   "source": [
    "# Se guardan los features finales en un csv en la carpeta modelos, para que lo levante el modlo a entrenar\n",
    "features.to_csv('../modelos/data_set.csv',index=False)"
   ]
  },
  {
   "cell_type": "code",
   "execution_count": null,
   "metadata": {},
   "outputs": [],
   "source": []
  },
  {
   "cell_type": "code",
   "execution_count": null,
   "metadata": {},
   "outputs": [],
   "source": []
  }
 ],
 "metadata": {
  "kernelspec": {
   "display_name": "Python 3",
   "language": "python",
   "name": "python3"
  },
  "language_info": {
   "codemirror_mode": {
    "name": "ipython",
    "version": 3
   },
   "file_extension": ".py",
   "mimetype": "text/x-python",
   "name": "python",
   "nbconvert_exporter": "python",
   "pygments_lexer": "ipython3",
   "version": "3.6.6"
  }
 },
 "nbformat": 4,
 "nbformat_minor": 2
}
