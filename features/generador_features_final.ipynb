{
 "cells": [
  {
   "cell_type": "markdown",
   "metadata": {},
   "source": [
    "## En este notebook juntaremos todos los features optimos a utilizar en el entrenamiento del modelo, con el fin de predecir de la mejor manera las probabilidades de compra de los usuarios."
   ]
  },
  {
   "cell_type": "code",
   "execution_count": 1,
   "metadata": {},
   "outputs": [],
   "source": [
    "# imports iniciales\n",
    "import pandas as pd\n",
    "import numpy as np\n",
    "import datetime\n",
    "from datetime import datetime, timedelta\n",
    "import utils\n",
    "import os\n",
    "import warnings\n",
    "warnings.simplefilter(action='ignore', category=FutureWarning)\n",
    "warnings.simplefilter(action='ignore', category=RuntimeWarning)"
   ]
  },
  {
   "cell_type": "code",
   "execution_count": 2,
   "metadata": {},
   "outputs": [
    {
     "data": {
      "text/plain": [
       "(38829, 1)"
      ]
     },
     "execution_count": 2,
     "metadata": {},
     "output_type": "execute_result"
    }
   ],
   "source": [
    "events = pd.read_csv('events_up_to_01062018.csv',low_memory=False)\n",
    "events = events['person'].drop_duplicates().to_frame()\n",
    "events.shape"
   ]
  },
  {
   "cell_type": "code",
   "execution_count": 3,
   "metadata": {},
   "outputs": [
    {
     "name": "stderr",
     "output_type": "stream",
     "text": [
      "/home/julimejliker/.local/lib/python3.6/site-packages/requests/__init__.py:91: RequestsDependencyWarning: urllib3 (1.24.1) or chardet (3.0.4) doesn't match a supported version!\n",
      "  RequestsDependencyWarning)\n"
     ]
    }
   ],
   "source": [
    "#Corremos todos los notebooks que queremos utilizar para generar los features\n",
    "%run ./features_busquedas.ipynb"
   ]
  },
  {
   "cell_type": "code",
   "execution_count": 4,
   "metadata": {},
   "outputs": [],
   "source": [
    "%run ./features_basicos.ipynb"
   ]
  },
  {
   "cell_type": "code",
   "execution_count": 5,
   "metadata": {},
   "outputs": [],
   "source": [
    "%run ./features_utilies.ipynb"
   ]
  },
  {
   "cell_type": "code",
   "execution_count": 6,
   "metadata": {},
   "outputs": [],
   "source": [
    "%run ./features_sesiones.ipynb"
   ]
  },
  {
   "cell_type": "code",
   "execution_count": 7,
   "metadata": {},
   "outputs": [],
   "source": [
    "%run ./features_system.ipynb\n",
    "#%run ./features_ad_campaing.ipynb\n",
    "#%run ./features_caracteristicas_telefonos_vistos.ipynb"
   ]
  },
  {
   "cell_type": "code",
   "execution_count": 8,
   "metadata": {},
   "outputs": [],
   "source": [
    "%run ./nuevos_features.ipynb"
   ]
  },
  {
   "cell_type": "code",
   "execution_count": 9,
   "metadata": {},
   "outputs": [],
   "source": [
    "%run ./features_productos_vistos.ipynb"
   ]
  },
  {
   "cell_type": "code",
   "execution_count": 10,
   "metadata": {},
   "outputs": [],
   "source": [
    "# %run ./features_productos_checkouts.ipynb"
   ]
  },
  {
   "cell_type": "code",
   "execution_count": 11,
   "metadata": {},
   "outputs": [],
   "source": [
    "%run ./features_dispositivos.ipynb"
   ]
  },
  {
   "cell_type": "code",
   "execution_count": 12,
   "metadata": {},
   "outputs": [],
   "source": [
    "%run ./features_location.ipynb"
   ]
  },
  {
   "cell_type": "code",
   "execution_count": 13,
   "metadata": {},
   "outputs": [],
   "source": [
    "%run ./features_top_model.ipynb"
   ]
  },
  {
   "cell_type": "code",
   "execution_count": 14,
   "metadata": {},
   "outputs": [],
   "source": [
    "%run ./features_dias.ipynb"
   ]
  },
  {
   "cell_type": "code",
   "execution_count": 21,
   "metadata": {},
   "outputs": [],
   "source": [
    "features_basicos = pd.read_csv('features_basicos.csv',low_memory=False)\n",
    "features_utilies = pd.read_csv('features.csv',low_memory=False)\n",
    "#features_caracteristicas = pd.read_csv('features_caracteristicas.csv', low_memory = False)\n",
    "#features_ad_campaign = pd.read_csv('features_ad_campaing.csv',low_memory=False)\n",
    "features_sessions = pd.read_csv('features_session.csv',low_memory=False)\n",
    "features_busquedas = pd.read_csv('features_busquedas.csv',low_memory=False)\n",
    "features_system = pd.read_csv('features_system.csv',low_memory=False)\n",
    "features_nuevos = pd.read_csv('features_nuevos.csv',low_memory=False)\n",
    "features_productos_vistos = pd.read_csv('features_productos_vistos.csv',low_memory=False)\n",
    "# features_productos_checkouts = pd.read_csv('features_productos_checkouts.csv',low_memory=False)\n",
    "features_dispositivos = pd.read_csv('features_dispositivos.csv',low_memory=False)\n",
    "features_location = pd.read_csv('features_location.csv',low_memory=False)\n",
    "features_top_model = pd.read_csv('features_top_model.csv',low_memory=False)\n",
    "features_dias = pd.read_csv('features_dias.csv', low_memory=False)\n",
    "features_fechas_int = pd.read_csv('features_fechas_int.csv', low_memory=False)"
   ]
  },
  {
   "cell_type": "code",
   "execution_count": 23,
   "metadata": {},
   "outputs": [
    {
     "data": {
      "text/html": [
       "<div>\n",
       "<style scoped>\n",
       "    .dataframe tbody tr th:only-of-type {\n",
       "        vertical-align: middle;\n",
       "    }\n",
       "\n",
       "    .dataframe tbody tr th {\n",
       "        vertical-align: top;\n",
       "    }\n",
       "\n",
       "    .dataframe thead th {\n",
       "        text-align: right;\n",
       "    }\n",
       "</style>\n",
       "<table border=\"1\" class=\"dataframe\">\n",
       "  <thead>\n",
       "    <tr style=\"text-align: right;\">\n",
       "      <th></th>\n",
       "      <th>person</th>\n",
       "      <th>Email</th>\n",
       "      <th>Organic</th>\n",
       "      <th>Paid</th>\n",
       "      <th>Referral</th>\n",
       "      <th>Social</th>\n",
       "      <th>Unknown</th>\n",
       "      <th>ad campaign hit</th>\n",
       "      <th>brand listing</th>\n",
       "      <th>checkout</th>\n",
       "      <th>...</th>\n",
       "      <th>storage_8GB</th>\n",
       "      <th>condition_Bom</th>\n",
       "      <th>condition_Bom - Sem Touch ID</th>\n",
       "      <th>condition_Excelente</th>\n",
       "      <th>condition_Muito Bom</th>\n",
       "      <th>condition_Novo</th>\n",
       "      <th>suma</th>\n",
       "      <th>promedio</th>\n",
       "      <th>maximo</th>\n",
       "      <th>minimo</th>\n",
       "    </tr>\n",
       "  </thead>\n",
       "  <tbody>\n",
       "    <tr>\n",
       "      <th>0</th>\n",
       "      <td>0008ed71</td>\n",
       "      <td>0.0</td>\n",
       "      <td>0.0</td>\n",
       "      <td>0.0</td>\n",
       "      <td>2.0</td>\n",
       "      <td>0.0</td>\n",
       "      <td>0.0</td>\n",
       "      <td>0</td>\n",
       "      <td>0</td>\n",
       "      <td>3</td>\n",
       "      <td>...</td>\n",
       "      <td>0.0</td>\n",
       "      <td>2.0</td>\n",
       "      <td>0.0</td>\n",
       "      <td>0.0</td>\n",
       "      <td>1.0</td>\n",
       "      <td>0.0</td>\n",
       "      <td>121083102878903</td>\n",
       "      <td>2.018052e+13</td>\n",
       "      <td>20180517162837</td>\n",
       "      <td>20180517122747</td>\n",
       "    </tr>\n",
       "    <tr>\n",
       "      <th>1</th>\n",
       "      <td>00091926</td>\n",
       "      <td>0.0</td>\n",
       "      <td>0.0</td>\n",
       "      <td>8.0</td>\n",
       "      <td>1.0</td>\n",
       "      <td>0.0</td>\n",
       "      <td>0.0</td>\n",
       "      <td>15</td>\n",
       "      <td>25</td>\n",
       "      <td>2</td>\n",
       "      <td>...</td>\n",
       "      <td>0.0</td>\n",
       "      <td>102.0</td>\n",
       "      <td>0.0</td>\n",
       "      <td>108.0</td>\n",
       "      <td>163.0</td>\n",
       "      <td>1.0</td>\n",
       "      <td>9040871528715832</td>\n",
       "      <td>2.018052e+13</td>\n",
       "      <td>20180531195203</td>\n",
       "      <td>20180503220829</td>\n",
       "    </tr>\n",
       "    <tr>\n",
       "      <th>2</th>\n",
       "      <td>00091a7a</td>\n",
       "      <td>0.0</td>\n",
       "      <td>0.0</td>\n",
       "      <td>1.0</td>\n",
       "      <td>0.0</td>\n",
       "      <td>0.0</td>\n",
       "      <td>0.0</td>\n",
       "      <td>1</td>\n",
       "      <td>5</td>\n",
       "      <td>0</td>\n",
       "      <td>...</td>\n",
       "      <td>0.0</td>\n",
       "      <td>1.0</td>\n",
       "      <td>0.0</td>\n",
       "      <td>2.0</td>\n",
       "      <td>0.0</td>\n",
       "      <td>0.0</td>\n",
       "      <td>201803261454582</td>\n",
       "      <td>2.018033e+13</td>\n",
       "      <td>20180326145658</td>\n",
       "      <td>20180326145111</td>\n",
       "    </tr>\n",
       "    <tr>\n",
       "      <th>3</th>\n",
       "      <td>000ba417</td>\n",
       "      <td>0.0</td>\n",
       "      <td>0.0</td>\n",
       "      <td>0.0</td>\n",
       "      <td>0.0</td>\n",
       "      <td>0.0</td>\n",
       "      <td>0.0</td>\n",
       "      <td>1</td>\n",
       "      <td>24</td>\n",
       "      <td>6</td>\n",
       "      <td>...</td>\n",
       "      <td>22.0</td>\n",
       "      <td>115.0</td>\n",
       "      <td>0.0</td>\n",
       "      <td>11.0</td>\n",
       "      <td>34.0</td>\n",
       "      <td>0.0</td>\n",
       "      <td>4157187614421402</td>\n",
       "      <td>2.018052e+13</td>\n",
       "      <td>20180526130922</td>\n",
       "      <td>20180517111145</td>\n",
       "    </tr>\n",
       "    <tr>\n",
       "      <th>4</th>\n",
       "      <td>000c79fe</td>\n",
       "      <td>0.0</td>\n",
       "      <td>0.0</td>\n",
       "      <td>1.0</td>\n",
       "      <td>0.0</td>\n",
       "      <td>0.0</td>\n",
       "      <td>0.0</td>\n",
       "      <td>1</td>\n",
       "      <td>0</td>\n",
       "      <td>1</td>\n",
       "      <td>...</td>\n",
       "      <td>0.0</td>\n",
       "      <td>4.0</td>\n",
       "      <td>0.0</td>\n",
       "      <td>0.0</td>\n",
       "      <td>0.0</td>\n",
       "      <td>0.0</td>\n",
       "      <td>343068993055724</td>\n",
       "      <td>2.018053e+13</td>\n",
       "      <td>20180529003807</td>\n",
       "      <td>20180529002747</td>\n",
       "    </tr>\n",
       "  </tbody>\n",
       "</table>\n",
       "<p>5 rows × 82 columns</p>\n",
       "</div>"
      ],
      "text/plain": [
       "     person  Email  Organic  Paid  Referral  Social  Unknown  ad campaign hit  \\\n",
       "0  0008ed71    0.0      0.0   0.0       2.0     0.0      0.0                0   \n",
       "1  00091926    0.0      0.0   8.0       1.0     0.0      0.0               15   \n",
       "2  00091a7a    0.0      0.0   1.0       0.0     0.0      0.0                1   \n",
       "3  000ba417    0.0      0.0   0.0       0.0     0.0      0.0                1   \n",
       "4  000c79fe    0.0      0.0   1.0       0.0     0.0      0.0                1   \n",
       "\n",
       "   brand listing  checkout       ...        storage_8GB  condition_Bom  \\\n",
       "0              0         3       ...                0.0            2.0   \n",
       "1             25         2       ...                0.0          102.0   \n",
       "2              5         0       ...                0.0            1.0   \n",
       "3             24         6       ...               22.0          115.0   \n",
       "4              0         1       ...                0.0            4.0   \n",
       "\n",
       "   condition_Bom - Sem Touch ID  condition_Excelente  condition_Muito Bom  \\\n",
       "0                           0.0                  0.0                  1.0   \n",
       "1                           0.0                108.0                163.0   \n",
       "2                           0.0                  2.0                  0.0   \n",
       "3                           0.0                 11.0                 34.0   \n",
       "4                           0.0                  0.0                  0.0   \n",
       "\n",
       "   condition_Novo              suma      promedio          maximo  \\\n",
       "0             0.0   121083102878903  2.018052e+13  20180517162837   \n",
       "1             1.0  9040871528715832  2.018052e+13  20180531195203   \n",
       "2             0.0   201803261454582  2.018033e+13  20180326145658   \n",
       "3             0.0  4157187614421402  2.018052e+13  20180526130922   \n",
       "4             0.0   343068993055724  2.018053e+13  20180529003807   \n",
       "\n",
       "           minimo  \n",
       "0  20180517122747  \n",
       "1  20180503220829  \n",
       "2  20180326145111  \n",
       "3  20180517111145  \n",
       "4  20180529002747  \n",
       "\n",
       "[5 rows x 82 columns]"
      ]
     },
     "execution_count": 23,
     "metadata": {},
     "output_type": "execute_result"
    }
   ],
   "source": [
    "features = utils.merge_features([features_basicos,\n",
    "                                 features_utilies,\n",
    "#                                features_caracteristicas,\n",
    "#                                features_ad_campaign,\n",
    "                                 features_nuevos,\n",
    "                                 features_system, \n",
    "                                 features_sessions,\n",
    "                                 features_busquedas,\n",
    "                                 features_productos_vistos,\n",
    "#                                  features_productos_checkouts,\n",
    "                                 features_dispositivos,\n",
    "                                 features_location,\n",
    "                                 features_top_model,\n",
    "                                 features_dias,\n",
    "                                 features_fechas_int\n",
    "                                 ])\n",
    "\n",
    "features['promedio de TFIdf'].fillna(0,inplace=True)\n",
    "features['coincide'].fillna(0,inplace=True)\n",
    "features['different_products_views'].fillna(0,inplace=True)\n",
    "features['total_views'].fillna(0,inplace=True)\n",
    "features['same_product_max_views'].fillna(0,inplace=True)\n",
    "# features['viewed/checkouted min'].fillna(0,inplace=True)\n",
    "# features['viewed/checkouted max'].fillna(0,inplace=True)\n",
    "# features['viewed/checkout gral'].fillna(0,inplace=True)\n",
    "features['country_Computer'].fillna(0,inplace=True)\n",
    "features['country_Smartphone'].fillna(0,inplace=True)\n",
    "features['country_Tablet'].fillna(0,inplace=True)\n",
    "features['Computer'].fillna(0,inplace=True)\n",
    "features['Smartphone'].fillna(0,inplace=True)\n",
    "features['Tablet'].fillna(0,inplace=True)\n",
    "features.head()"
   ]
  },
  {
   "cell_type": "code",
   "execution_count": 24,
   "metadata": {},
   "outputs": [],
   "source": [
    "# Se guardan los features finales en un csv en la carpeta modelos, para que lo levante el modlo a entrenar\n",
    "features.to_csv('../modelos/data_set.csv',index=False)"
   ]
  },
  {
   "cell_type": "code",
   "execution_count": 25,
   "metadata": {},
   "outputs": [],
   "source": [
    "#Limpieza de csvs para dejar la carpeta limpia\n",
    "os.remove('features_basicos.csv')\n",
    "os.remove('features.csv')\n",
    "os.remove('features_caracteristicas.csv')\n",
    "os.remove('features_ad_campaing.csv')\n",
    "os.remove('features_session.csv')\n",
    "os.remove('features_busquedas.csv')\n",
    "os.remove('features_system.csv')\n",
    "os.remove('features_nuevos.csv')\n",
    "os.remove('features_productos_vistos.csv')\n",
    "os.remove('features_productos_checkouts.csv')\n",
    "os.remove('features_dispositivos.csv')\n",
    "os.remove('features_location.csv')\n",
    "os.remove('features_top_model.csv')\n",
    "os.remove('features_dias.csv')\n",
    "os.remove('features_fechas_int.csv')"
   ]
  },
  {
   "cell_type": "code",
   "execution_count": 25,
   "metadata": {},
   "outputs": [],
   "source": [
    "features.columns.values"
   ]
  },
  {
   "cell_type": "code",
   "execution_count": 25,
   "metadata": {},
   "outputs": [
    {
     "data": {
      "text/plain": [
       "array(['person', 'Email', 'Organic', 'Paid', 'Referral', 'Social',\n",
       "       'Unknown', 'ad campaign hit', 'brand listing', 'checkout',\n",
       "       'conversion', 'generic listing', 'lead', 'search engine hit',\n",
       "       'searched products', 'staticpage', 'viewed product',\n",
       "       'visited site', 'promedio dias', 'promedio hora', 'retornos',\n",
       "       'longitud busqueda', 'coincide', 'sessions', 'total_time',\n",
       "       'mean_time_by_session', 'max_session_time',\n",
       "       'mean_events_by_session', 'max_events_by_session',\n",
       "       'days_since_last_session', 'promedio de TFIdf',\n",
       "       'different_products_views', 'total_views',\n",
       "       'same_product_max_views', 'Computer', 'Smartphone', 'Tablet',\n",
       "       'country_Computer', 'country_Smartphone', 'country_Tablet', 'city',\n",
       "       'city_ranking', 'most_frequent_model',\n",
       "       'is_most_frequent_model_top', 'day', 'hora', 'hour', 'weekend',\n",
       "       'weekday_Friday', 'weekday_Monday', 'weekday_Saturday',\n",
       "       'weekday_Sunday', 'weekday_Thursday', 'weekday_Tuesday',\n",
       "       'weekday_Wednesday', 'periodo_madrugada', 'periodo_manana',\n",
       "       'periodo_mediodia', 'periodo_noche', 'periodo_tarde', 'mes_Apr',\n",
       "       'mes_Feb', 'mes_Jan', 'mes_Mar', 'mes_May', 'storage_128GB',\n",
       "       'storage_16GB', 'storage_256GB', 'storage_32GB', 'storage_4GB',\n",
       "       'storage_512MB', 'storage_64GB', 'storage_8GB', 'condition_Bom',\n",
       "       'condition_Bom - Sem Touch ID', 'condition_Excelente',\n",
       "       'condition_Muito Bom', 'condition_Novo', 'suma', 'promedio',\n",
       "       'maximo', 'minimo'], dtype=object)"
      ]
     },
     "execution_count": 25,
     "metadata": {},
     "output_type": "execute_result"
    }
   ],
   "source": []
  },
  {
   "cell_type": "code",
   "execution_count": 26,
   "metadata": {},
   "outputs": [
    {
     "data": {
      "text/plain": [
       "(38829, 82)"
      ]
     },
     "execution_count": 26,
     "metadata": {},
     "output_type": "execute_result"
    }
   ],
   "source": [
    "features.shape"
   ]
  },
  {
   "cell_type": "code",
   "execution_count": null,
   "metadata": {},
   "outputs": [],
   "source": []
  }
 ],
 "metadata": {
  "kernelspec": {
   "display_name": "Python 3",
   "language": "python",
   "name": "python3"
  },
  "language_info": {
   "codemirror_mode": {
    "name": "ipython",
    "version": 3
   },
   "file_extension": ".py",
   "mimetype": "text/x-python",
   "name": "python",
   "nbconvert_exporter": "python",
   "pygments_lexer": "ipython3",
   "version": "3.6.6"
  }
 },
 "nbformat": 4,
 "nbformat_minor": 2
}
