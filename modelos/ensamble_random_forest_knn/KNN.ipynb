{
 "cells": [
  {
   "cell_type": "code",
   "execution_count": 18,
   "metadata": {},
   "outputs": [],
   "source": [
    "import pandas as pd\n",
    "import numpy as np\n",
    "import matplotlib.pyplot as plt\n",
    "import seaborn as sns\n",
    "from datetime import datetime\n",
    "\n",
    "from sklearn.model_selection import train_test_split\n",
    "from sklearn.metrics import accuracy_score\n",
    "from sklearn.neighbors import KNeighborsClassifier\n",
    "%matplotlib inline"
   ]
  },
  {
   "cell_type": "code",
   "execution_count": 19,
   "metadata": {},
   "outputs": [],
   "source": [
    "training_labels = pd.read_csv(\"entrenamiento.csv\", low_memory=False)[['person','label']]\n",
    "labels_predict = pd.read_csv(\"trocafone_kaggle_test.csv\", low_memory=False)\n",
    "data = pd.read_csv(\"entrenamiento.csv\", low_memory = False).drop(columns={'label'}).append(pd.read_csv(\"predkaggle.csv\", low_memory = False))"
   ]
  },
  {
   "cell_type": "code",
   "execution_count": 20,
   "metadata": {},
   "outputs": [
    {
     "data": {
      "text/plain": [
       "0    296\n",
       "1    292\n",
       "Name: label, dtype: int64"
      ]
     },
     "execution_count": 20,
     "metadata": {},
     "output_type": "execute_result"
    }
   ],
   "source": [
    "#training_labels = data[['person','label']]\n",
    "training_labels['label'].value_counts()"
   ]
  },
  {
   "cell_type": "code",
   "execution_count": 21,
   "metadata": {},
   "outputs": [],
   "source": [
    "#data = data[['person','days_since_last_session', 'sessions']]\n",
    "#data.head()"
   ]
  },
  {
   "cell_type": "code",
   "execution_count": 22,
   "metadata": {},
   "outputs": [
    {
     "data": {
      "text/plain": [
       "0    296\n",
       "1    292\n",
       "Name: label, dtype: int64"
      ]
     },
     "execution_count": 22,
     "metadata": {},
     "output_type": "execute_result"
    }
   ],
   "source": [
    "features = pd.merge(training_labels, data, on='person', how='inner')\n",
    "features = features.fillna(0)\n",
    "features['label'].value_counts()"
   ]
  },
  {
   "cell_type": "code",
   "execution_count": 23,
   "metadata": {},
   "outputs": [
    {
     "name": "stdout",
     "output_type": "stream",
     "text": [
      "Train:  529 Test:  59\n"
     ]
    }
   ],
   "source": [
    "train, test = train_test_split(features,test_size=0.10)\n",
    "print(\"Train: \",len(train),\"Test: \",len(test))\n",
    "features=list(features.columns)\n",
    "features.remove('person')\n",
    "features.remove('label')\n",
    "\n",
    "x_train=train[features]\n",
    "y_train=train['label']\n",
    "\n",
    "x_test=test[features]\n",
    "y_test=test['label']"
   ]
  },
  {
   "cell_type": "code",
   "execution_count": 24,
   "metadata": {},
   "outputs": [],
   "source": [
    "set_test = pd.merge(data,labels_predict,on = \"person\", how = \"right\")\n",
    "personas = set_test[\"person\"]\n",
    "set_test = set_test.drop(columns=['person'])"
   ]
  },
  {
   "cell_type": "code",
   "execution_count": null,
   "metadata": {},
   "outputs": [],
   "source": []
  },
  {
   "cell_type": "code",
   "execution_count": 25,
   "metadata": {},
   "outputs": [],
   "source": [
    "def KNN(k):\n",
    "    knn = KNeighborsClassifier(n_neighbors=k,metric='euclidean')\n",
    "    knn.fit(x_train, y_train)\n",
    "    pred = knn.predict(x_test)\n",
    "    print (accuracy_score(pred, y_test))\n",
    "    preds_kaggel_knn = knn.predict(set_test)\n",
    "    preds_kaggel_knn = preds_kaggel_knn.tolist()\n",
    "    df_kaggel_knn = pd.DataFrame(preds_kaggel_knn)\n",
    "    df_kaggel_knn[\"person\"] = personas\n",
    "    df_kaggel_knn.rename(columns = {0: 'label'},inplace = True) \n",
    "    df_kaggel_knn = df_kaggel_knn[['person','label']]\n",
    "    print (df_kaggel_knn[\"label\"].value_counts())"
   ]
  },
  {
   "cell_type": "code",
   "execution_count": 26,
   "metadata": {},
   "outputs": [
    {
     "name": "stdout",
     "output_type": "stream",
     "text": [
      "1\n",
      "0.8135593220338984\n",
      "0    13465\n",
      "1     5950\n",
      "Name: label, dtype: int64\n",
      "2\n",
      "0.7627118644067796\n",
      "0    15210\n",
      "1     4205\n",
      "Name: label, dtype: int64\n",
      "3\n",
      "0.8135593220338984\n",
      "0    14035\n",
      "1     5380\n",
      "Name: label, dtype: int64\n",
      "4\n",
      "0.8305084745762712\n",
      "0    14702\n",
      "1     4713\n",
      "Name: label, dtype: int64\n",
      "5\n",
      "0.8813559322033898\n",
      "0    13689\n",
      "1     5726\n",
      "Name: label, dtype: int64\n",
      "6\n",
      "0.847457627118644\n",
      "0    14127\n",
      "1     5288\n",
      "Name: label, dtype: int64\n",
      "7\n",
      "0.864406779661017\n",
      "0    13688\n",
      "1     5727\n",
      "Name: label, dtype: int64\n",
      "8\n",
      "0.8135593220338984\n",
      "0    14174\n",
      "1     5241\n",
      "Name: label, dtype: int64\n",
      "9\n",
      "0.8813559322033898\n",
      "0    13741\n",
      "1     5674\n",
      "Name: label, dtype: int64\n",
      "10\n",
      "0.864406779661017\n",
      "0    14106\n",
      "1     5309\n",
      "Name: label, dtype: int64\n",
      "11\n",
      "0.8813559322033898\n",
      "0    13731\n",
      "1     5684\n",
      "Name: label, dtype: int64\n",
      "12\n",
      "0.7966101694915254\n",
      "0    14138\n",
      "1     5277\n",
      "Name: label, dtype: int64\n",
      "13\n",
      "0.847457627118644\n",
      "0    13691\n",
      "1     5724\n",
      "Name: label, dtype: int64\n",
      "14\n",
      "0.847457627118644\n",
      "0    14023\n",
      "1     5392\n",
      "Name: label, dtype: int64\n"
     ]
    }
   ],
   "source": [
    "for x in range(1,15):\n",
    "    print (x)\n",
    "    KNN(x)"
   ]
  },
  {
   "cell_type": "code",
   "execution_count": 37,
   "metadata": {},
   "outputs": [
    {
     "name": "stdout",
     "output_type": "stream",
     "text": [
      "0.864406779661017\n"
     ]
    }
   ],
   "source": [
    "knn = KNeighborsClassifier(n_neighbors=20,metric='euclidean')\n",
    "knn.fit(x_train, y_train)\n",
    "pred = knn.predict(x_test)\n",
    "print (accuracy_score(pred, y_test))"
   ]
  },
  {
   "cell_type": "code",
   "execution_count": 38,
   "metadata": {},
   "outputs": [],
   "source": [
    "preds_kaggel_knn = knn.predict(set_test)"
   ]
  },
  {
   "cell_type": "code",
   "execution_count": 39,
   "metadata": {},
   "outputs": [
    {
     "name": "stdout",
     "output_type": "stream",
     "text": [
      "<class 'pandas.core.frame.DataFrame'>\n",
      "RangeIndex: 19415 entries, 0 to 19414\n",
      "Data columns (total 1 columns):\n",
      "0    19415 non-null int64\n",
      "dtypes: int64(1)\n",
      "memory usage: 151.8 KB\n"
     ]
    }
   ],
   "source": [
    "preds_kaggel_knnpreds_kag  = preds_kaggel_knn.tolist()\n",
    "df_kaggel_knn = pd.DataFrame(preds_kaggel_knn)\n",
    "df_kaggel_knn.info()"
   ]
  },
  {
   "cell_type": "code",
   "execution_count": 40,
   "metadata": {},
   "outputs": [],
   "source": [
    "# df_kaggel_knn = df_kaggel_knn.to_frame()# df_kagg \n",
    "df_kaggel_knn[\"person\"] = personas\n",
    "df_kaggel_knn.rename(columns = {0: 'label'},inplace = True) \n",
    "df_kaggel_knn = df_kaggel_knn[['person','label']]"
   ]
  },
  {
   "cell_type": "code",
   "execution_count": 41,
   "metadata": {},
   "outputs": [
    {
     "data": {
      "text/plain": [
       "0    13875\n",
       "1     5540\n",
       "Name: label, dtype: int64"
      ]
     },
     "execution_count": 41,
     "metadata": {},
     "output_type": "execute_result"
    }
   ],
   "source": [
    "df_kaggel_knn[\"label\"].value_counts()\n"
   ]
  },
  {
   "cell_type": "code",
   "execution_count": 42,
   "metadata": {},
   "outputs": [],
   "source": [
    "df_kaggel_knn.to_csv('ResultadosKNN.csv',index=False)"
   ]
  },
  {
   "cell_type": "code",
   "execution_count": null,
   "metadata": {},
   "outputs": [],
   "source": []
  }
 ],
 "metadata": {
  "kernelspec": {
   "display_name": "Python 3",
   "language": "python",
   "name": "python3"
  },
  "language_info": {
   "codemirror_mode": {
    "name": "ipython",
    "version": 3
   },
   "file_extension": ".py",
   "mimetype": "text/x-python",
   "name": "python",
   "nbconvert_exporter": "python",
   "pygments_lexer": "ipython3",
   "version": "3.6.6"
  }
 },
 "nbformat": 4,
 "nbformat_minor": 2
}
