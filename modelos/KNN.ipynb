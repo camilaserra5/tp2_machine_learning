{
 "cells": [
  {
   "cell_type": "code",
   "execution_count": 14,
   "metadata": {},
   "outputs": [],
   "source": [
    "import pandas as pd\n",
    "import numpy as np\n",
    "import matplotlib.pyplot as plt\n",
    "import seaborn as sns\n",
    "from datetime import datetime\n",
    "\n",
    "from sklearn.model_selection import train_test_split\n",
    "from sklearn.metrics import accuracy_score\n",
    "from sklearn.neighbors import KNeighborsClassifier\n",
    "%matplotlib inline"
   ]
  },
  {
   "cell_type": "code",
   "execution_count": 96,
   "metadata": {},
   "outputs": [],
   "source": [
    "training_labels = pd.read_csv(\"labels_training_set.csv\", low_memory=False)\n",
    "labels_predict = pd.read_csv(\"trocafone_kaggle_test.csv\", low_memory=False)\n",
    "data = pd.read_csv(\"data_set.csv\", low_memory = False)"
   ]
  },
  {
   "cell_type": "code",
   "execution_count": 101,
   "metadata": {},
   "outputs": [
    {
     "data": {
      "text/plain": [
       "0    18434\n",
       "1      980\n",
       "Name: label, dtype: int64"
      ]
     },
     "execution_count": 101,
     "metadata": {},
     "output_type": "execute_result"
    }
   ],
   "source": [
    "training_labels = training_labels[['person','label']]\n",
    "training_labels['label'].value_counts()"
   ]
  },
  {
   "cell_type": "code",
   "execution_count": 105,
   "metadata": {},
   "outputs": [
    {
     "data": {
      "text/html": [
       "<div>\n",
       "<style scoped>\n",
       "    .dataframe tbody tr th:only-of-type {\n",
       "        vertical-align: middle;\n",
       "    }\n",
       "\n",
       "    .dataframe tbody tr th {\n",
       "        vertical-align: top;\n",
       "    }\n",
       "\n",
       "    .dataframe thead th {\n",
       "        text-align: right;\n",
       "    }\n",
       "</style>\n",
       "<table border=\"1\" class=\"dataframe\">\n",
       "  <thead>\n",
       "    <tr style=\"text-align: right;\">\n",
       "      <th></th>\n",
       "      <th>person</th>\n",
       "      <th>days_since_last_session</th>\n",
       "      <th>sessions</th>\n",
       "    </tr>\n",
       "  </thead>\n",
       "  <tbody>\n",
       "    <tr>\n",
       "      <th>0</th>\n",
       "      <td>0008ed71</td>\n",
       "      <td>187</td>\n",
       "      <td>3</td>\n",
       "    </tr>\n",
       "    <tr>\n",
       "      <th>1</th>\n",
       "      <td>00091926</td>\n",
       "      <td>173</td>\n",
       "      <td>34</td>\n",
       "    </tr>\n",
       "    <tr>\n",
       "      <th>2</th>\n",
       "      <td>00091a7a</td>\n",
       "      <td>239</td>\n",
       "      <td>1</td>\n",
       "    </tr>\n",
       "    <tr>\n",
       "      <th>3</th>\n",
       "      <td>000ba417</td>\n",
       "      <td>178</td>\n",
       "      <td>5</td>\n",
       "    </tr>\n",
       "    <tr>\n",
       "      <th>4</th>\n",
       "      <td>000c79fe</td>\n",
       "      <td>175</td>\n",
       "      <td>1</td>\n",
       "    </tr>\n",
       "  </tbody>\n",
       "</table>\n",
       "</div>"
      ],
      "text/plain": [
       "     person  days_since_last_session  sessions\n",
       "0  0008ed71                      187         3\n",
       "1  00091926                      173        34\n",
       "2  00091a7a                      239         1\n",
       "3  000ba417                      178         5\n",
       "4  000c79fe                      175         1"
      ]
     },
     "execution_count": 105,
     "metadata": {},
     "output_type": "execute_result"
    }
   ],
   "source": [
    "data = data[['person','days_since_last_session', 'sessions']]\n",
    "data.head()"
   ]
  },
  {
   "cell_type": "code",
   "execution_count": 111,
   "metadata": {},
   "outputs": [
    {
     "data": {
      "text/plain": [
       "0    5000\n",
       "1     980\n",
       "Name: label, dtype: int64"
      ]
     },
     "execution_count": 111,
     "metadata": {},
     "output_type": "execute_result"
    }
   ],
   "source": [
    "features = pd.merge(training_labels, data, on='person', how='inner')\n",
    "features = features.fillna(0)\n",
    "features['label'].value_counts()\n",
    "features = pd.concat([(features[features['label'] == 0].sort_values(by='days_since_last_session', ascending=True).head(5000)),(features[features['label'] == 1])])\n",
    "features['label'].value_counts()"
   ]
  },
  {
   "cell_type": "code",
   "execution_count": 112,
   "metadata": {},
   "outputs": [
    {
     "name": "stdout",
     "output_type": "stream",
     "text": [
      "Train:  5382 Test:  598\n"
     ]
    }
   ],
   "source": [
    "train, test = train_test_split(features,test_size=0.10)\n",
    "print(\"Train: \",len(train),\"Test: \",len(test))\n",
    "features=list(features.columns)\n",
    "features.remove('person')\n",
    "features.remove('label')\n",
    "\n",
    "x_train=train[features]\n",
    "y_train=train['label']\n",
    "\n",
    "x_test=test[features]\n",
    "y_test=test['label']"
   ]
  },
  {
   "cell_type": "code",
   "execution_count": 113,
   "metadata": {},
   "outputs": [],
   "source": [
    "set_test = pd.merge(data,labels_predict,on = \"person\", how = \"right\")\n",
    "personas = set_test[\"person\"]\n",
    "set_test = set_test.drop(columns=['person'])"
   ]
  },
  {
   "cell_type": "code",
   "execution_count": null,
   "metadata": {},
   "outputs": [],
   "source": []
  },
  {
   "cell_type": "code",
   "execution_count": 114,
   "metadata": {},
   "outputs": [],
   "source": [
    "def KNN(k):\n",
    "    knn = KNeighborsClassifier(n_neighbors=k,metric='euclidean')\n",
    "    knn.fit(x_train, y_train)\n",
    "    pred = knn.predict(x_test)\n",
    "    print (accuracy_score(pred, y_test))\n",
    "    preds_kaggel_knn = knn.predict(set_test)\n",
    "    preds_kaggel_knn = preds_kaggel_knn.tolist()\n",
    "    df_kaggel_knn = pd.DataFrame(preds_kaggel_knn)\n",
    "    df_kaggel_knn[\"person\"] = personas\n",
    "    df_kaggel_knn.rename(columns = {0: 'label'},inplace = True) \n",
    "    df_kaggel_knn = df_kaggel_knn[['person','label']]\n",
    "    print (df_kaggel_knn[\"label\"].value_counts())"
   ]
  },
  {
   "cell_type": "code",
   "execution_count": 115,
   "metadata": {},
   "outputs": [
    {
     "name": "stdout",
     "output_type": "stream",
     "text": [
      "1\n",
      "0.9063545150501672\n",
      "1    13492\n",
      "0     5923\n",
      "Name: label, dtype: int64\n",
      "2\n",
      "0.9230769230769231\n",
      "1    12518\n",
      "0     6897\n",
      "Name: label, dtype: int64\n",
      "3\n",
      "0.919732441471572\n",
      "1    12616\n",
      "0     6799\n",
      "Name: label, dtype: int64\n",
      "4\n",
      "0.9230769230769231\n",
      "1    12488\n",
      "0     6927\n",
      "Name: label, dtype: int64\n",
      "5\n",
      "0.9247491638795987\n",
      "1    12520\n",
      "0     6895\n",
      "Name: label, dtype: int64\n",
      "6\n",
      "0.9247491638795987\n",
      "1    12473\n",
      "0     6942\n",
      "Name: label, dtype: int64\n",
      "7\n",
      "0.9247491638795987\n",
      "1    12528\n",
      "0     6887\n",
      "Name: label, dtype: int64\n",
      "8\n",
      "0.9214046822742475\n",
      "1    12455\n",
      "0     6960\n",
      "Name: label, dtype: int64\n",
      "9\n",
      "0.9230769230769231\n",
      "1    12523\n",
      "0     6892\n",
      "Name: label, dtype: int64\n",
      "10\n",
      "0.9214046822742475\n",
      "1    12461\n",
      "0     6954\n",
      "Name: label, dtype: int64\n",
      "11\n",
      "0.9214046822742475\n",
      "1    12481\n",
      "0     6934\n",
      "Name: label, dtype: int64\n",
      "12\n",
      "0.9180602006688964\n",
      "1    12312\n",
      "0     7103\n",
      "Name: label, dtype: int64\n",
      "13\n",
      "0.9180602006688964\n",
      "1    12327\n",
      "0     7088\n",
      "Name: label, dtype: int64\n",
      "14\n",
      "0.9163879598662207\n",
      "1    12304\n",
      "0     7111\n",
      "Name: label, dtype: int64\n"
     ]
    }
   ],
   "source": [
    "for x in range(1,15):\n",
    "    print (x)\n",
    "    KNN(x)"
   ]
  },
  {
   "cell_type": "code",
   "execution_count": 116,
   "metadata": {},
   "outputs": [
    {
     "name": "stdout",
     "output_type": "stream",
     "text": [
      "0.9247491638795987\n"
     ]
    }
   ],
   "source": [
    "knn = KNeighborsClassifier(n_neighbors=5,metric='euclidean')\n",
    "knn.fit(x_train, y_train)\n",
    "pred = knn.predict(x_test)\n",
    "print (accuracy_score(pred, y_test))"
   ]
  },
  {
   "cell_type": "code",
   "execution_count": 117,
   "metadata": {},
   "outputs": [],
   "source": [
    "preds_kaggel_knn = knn.predict(set_test)"
   ]
  },
  {
   "cell_type": "code",
   "execution_count": 118,
   "metadata": {},
   "outputs": [
    {
     "name": "stdout",
     "output_type": "stream",
     "text": [
      "<class 'pandas.core.frame.DataFrame'>\n",
      "RangeIndex: 19415 entries, 0 to 19414\n",
      "Data columns (total 1 columns):\n",
      "0    19415 non-null int64\n",
      "dtypes: int64(1)\n",
      "memory usage: 151.8 KB\n"
     ]
    }
   ],
   "source": [
    "preds_kaggel_knnpreds_kag  = preds_kaggel_knn.tolist()\n",
    "df_kaggel_knn = pd.DataFrame(preds_kaggel_knn)\n",
    "df_kaggel_knn.info()"
   ]
  },
  {
   "cell_type": "code",
   "execution_count": 119,
   "metadata": {},
   "outputs": [],
   "source": [
    "# df_kaggel_knn = df_kaggel_knn.to_frame()# df_kagg \n",
    "df_kaggel_knn[\"person\"] = personas\n",
    "df_kaggel_knn.rename(columns = {0: 'label'},inplace = True) \n",
    "df_kaggel_knn = df_kaggel_knn[['person','label']]"
   ]
  },
  {
   "cell_type": "code",
   "execution_count": 120,
   "metadata": {},
   "outputs": [
    {
     "data": {
      "text/plain": [
       "1    12520\n",
       "0     6895\n",
       "Name: label, dtype: int64"
      ]
     },
     "execution_count": 120,
     "metadata": {},
     "output_type": "execute_result"
    }
   ],
   "source": [
    "df_kaggel_knn[\"label\"].value_counts()\n"
   ]
  },
  {
   "cell_type": "code",
   "execution_count": 121,
   "metadata": {},
   "outputs": [],
   "source": [
    "df_kaggel_knn.to_csv('ResultadosKNN.csv',index=False)"
   ]
  },
  {
   "cell_type": "code",
   "execution_count": null,
   "metadata": {},
   "outputs": [],
   "source": []
  }
 ],
 "metadata": {
  "kernelspec": {
   "display_name": "Python 3",
   "language": "python",
   "name": "python3"
  },
  "language_info": {
   "codemirror_mode": {
    "name": "ipython",
    "version": 3
   },
   "file_extension": ".py",
   "mimetype": "text/x-python",
   "name": "python",
   "nbconvert_exporter": "python",
   "pygments_lexer": "ipython3",
   "version": "3.6.5"
  }
 },
 "nbformat": 4,
 "nbformat_minor": 2
}
