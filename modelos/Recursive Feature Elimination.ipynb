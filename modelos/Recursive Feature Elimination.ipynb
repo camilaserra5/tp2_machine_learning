{
 "cells": [
  {
   "cell_type": "code",
   "execution_count": 1,
   "metadata": {},
   "outputs": [],
   "source": [
    "import matplotlib.pyplot as plt\n",
    "from sklearn.svm import SVC\n",
    "from sklearn.model_selection import StratifiedKFold\n",
    "from sklearn.feature_selection import RFECV\n",
    "from sklearn.datasets import make_classification\n",
    "import pandas as pd\n",
    "from sklearn.ensemble import RandomForestClassifier\n",
    "import warnings\n",
    "warnings.filterwarnings(\"ignore\", category=DeprecationWarning) "
   ]
  },
  {
   "cell_type": "code",
   "execution_count": 2,
   "metadata": {},
   "outputs": [],
   "source": [
    "training_labels = pd.read_csv(\"labels_training_set.csv\", low_memory=False)\n",
    "labels_predict = pd.read_csv(\"trocafone_kaggle_test.csv\", low_memory=False)\n",
    "features = pd.read_csv('data_set.csv', low_memory = False)"
   ]
  },
  {
   "cell_type": "code",
   "execution_count": 3,
   "metadata": {},
   "outputs": [
    {
     "name": "stdout",
     "output_type": "stream",
     "text": [
      "(19414, 2)\n",
      "(19414, 218)\n"
     ]
    },
    {
     "data": {
      "text/html": [
       "<div>\n",
       "<style scoped>\n",
       "    .dataframe tbody tr th:only-of-type {\n",
       "        vertical-align: middle;\n",
       "    }\n",
       "\n",
       "    .dataframe tbody tr th {\n",
       "        vertical-align: top;\n",
       "    }\n",
       "\n",
       "    .dataframe thead th {\n",
       "        text-align: right;\n",
       "    }\n",
       "</style>\n",
       "<table border=\"1\" class=\"dataframe\">\n",
       "  <thead>\n",
       "    <tr style=\"text-align: right;\">\n",
       "      <th></th>\n",
       "      <th>person</th>\n",
       "      <th>Direct</th>\n",
       "      <th>Email</th>\n",
       "      <th>Organic</th>\n",
       "      <th>Paid</th>\n",
       "      <th>Referral</th>\n",
       "      <th>Social</th>\n",
       "      <th>ad campaign hit</th>\n",
       "      <th>brand listing</th>\n",
       "      <th>checkout</th>\n",
       "      <th>...</th>\n",
       "      <th>minimo</th>\n",
       "      <th>suma_resolution</th>\n",
       "      <th>promedio_resolution</th>\n",
       "      <th>maximo_resolution</th>\n",
       "      <th>minimo_resolution</th>\n",
       "      <th>promedio de TFIdf modelo</th>\n",
       "      <th>Suma de TFidf modelo</th>\n",
       "      <th>Maximo de TFIdf modelo</th>\n",
       "      <th>Minimo de TFIdf modelo</th>\n",
       "      <th>label</th>\n",
       "    </tr>\n",
       "  </thead>\n",
       "  <tbody>\n",
       "    <tr>\n",
       "      <th>0</th>\n",
       "      <td>0008ed71</td>\n",
       "      <td>2.0</td>\n",
       "      <td>0.0</td>\n",
       "      <td>0.0</td>\n",
       "      <td>0.0</td>\n",
       "      <td>0.0</td>\n",
       "      <td>0.0</td>\n",
       "      <td>0</td>\n",
       "      <td>0</td>\n",
       "      <td>3</td>\n",
       "      <td>...</td>\n",
       "      <td>20180517122747</td>\n",
       "      <td>4147200</td>\n",
       "      <td>691200.000000</td>\n",
       "      <td>2073600</td>\n",
       "      <td>0</td>\n",
       "      <td>1.617163</td>\n",
       "      <td>4.851488</td>\n",
       "      <td>1.859879</td>\n",
       "      <td>1.300103</td>\n",
       "      <td>0</td>\n",
       "    </tr>\n",
       "    <tr>\n",
       "      <th>1</th>\n",
       "      <td>000c79fe</td>\n",
       "      <td>0.0</td>\n",
       "      <td>0.0</td>\n",
       "      <td>0.0</td>\n",
       "      <td>0.0</td>\n",
       "      <td>0.0</td>\n",
       "      <td>0.0</td>\n",
       "      <td>1</td>\n",
       "      <td>0</td>\n",
       "      <td>1</td>\n",
       "      <td>...</td>\n",
       "      <td>20180529002747</td>\n",
       "      <td>230400</td>\n",
       "      <td>13552.941176</td>\n",
       "      <td>230400</td>\n",
       "      <td>0</td>\n",
       "      <td>1.000000</td>\n",
       "      <td>4.000000</td>\n",
       "      <td>1.000000</td>\n",
       "      <td>1.000000</td>\n",
       "      <td>0</td>\n",
       "    </tr>\n",
       "  </tbody>\n",
       "</table>\n",
       "<p>2 rows × 218 columns</p>\n",
       "</div>"
      ],
      "text/plain": [
       "     person  Direct  Email  Organic  Paid  Referral  Social  ad campaign hit  \\\n",
       "0  0008ed71     2.0    0.0      0.0   0.0       0.0     0.0                0   \n",
       "1  000c79fe     0.0    0.0      0.0   0.0       0.0     0.0                1   \n",
       "\n",
       "   brand listing  checkout  ...            minimo  suma_resolution  \\\n",
       "0              0         3  ...    20180517122747          4147200   \n",
       "1              0         1  ...    20180529002747           230400   \n",
       "\n",
       "   promedio_resolution  maximo_resolution  minimo_resolution  \\\n",
       "0        691200.000000            2073600                  0   \n",
       "1         13552.941176             230400                  0   \n",
       "\n",
       "   promedio de TFIdf modelo  Suma de TFidf modelo  Maximo de TFIdf modelo  \\\n",
       "0                  1.617163              4.851488                1.859879   \n",
       "1                  1.000000              4.000000                1.000000   \n",
       "\n",
       "   Minimo de TFIdf modelo  label  \n",
       "0                1.300103      0  \n",
       "1                1.000000      0  \n",
       "\n",
       "[2 rows x 218 columns]"
      ]
     },
     "execution_count": 3,
     "metadata": {},
     "output_type": "execute_result"
    }
   ],
   "source": [
    "print(training_labels.shape)\n",
    "training_labels = pd.merge(features, training_labels, on='person', how='inner')\n",
    "print(training_labels.shape)\n",
    "training_labels.head(2)"
   ]
  },
  {
   "cell_type": "code",
   "execution_count": 4,
   "metadata": {},
   "outputs": [],
   "source": [
    "labels = training_labels['label']\n",
    "features = training_labels.drop(['label','person'], axis=1)"
   ]
  },
  {
   "cell_type": "code",
   "execution_count": null,
   "metadata": {},
   "outputs": [],
   "source": []
  },
  {
   "cell_type": "code",
   "execution_count": 5,
   "metadata": {},
   "outputs": [
    {
     "name": "stdout",
     "output_type": "stream",
     "text": [
      "[False False False False False False  True  True  True  True False False\n",
      "  True False False False False  True  True False False False  True False\n",
      " False False False False  True False False False False False False False\n",
      " False False False False  True False False False  True False False False\n",
      " False False False False False False False False False False False  True\n",
      " False False False False False False False False False False False False\n",
      " False  True False False False False False False False False False  True\n",
      " False False False False False  True False  True False False False False\n",
      "  True False False False False False False False False False False False\n",
      " False False False False False False False False False False False False\n",
      " False False False False False False False False False False False  True\n",
      "  True  True  True  True  True  True  True False False  True False  True\n",
      " False False  True False False  True  True  True False False False False\n",
      "  True  True  True False  True  True  True False False False False False\n",
      "  True False False  True False False False  True False False  True False\n",
      " False  True  True False False False False False  True False False  True\n",
      " False False  True False False False False False False False False  True\n",
      "  True  True  True  True  True  True  True False  True  True False False]\n",
      "[  8  67  65  51  63  62   1   1   1   1  41  68   1  77  29  48  47   1\n",
      "   1  20  56  14   1  78  44  81  83  26   1  27   5  33  39  98  99  16\n",
      " 109 110 104 106   1 119 121  52   1 127 129 131  36 122 124 132  17 135\n",
      " 137 139 142 141  86   1  90  92  94 100  38  12 114 116 143 145 147 150\n",
      " 149   1  72  75  76  79  84  82  80   4  64   1  69  45  87  88  89   1\n",
      "  74   1 107  96  73  97   1  66 103 117 105 120 151 153 155 157 159 161\n",
      " 160 158 156 154 152   3 148 146 144  18 140 138 136 134 130 128 126 133\n",
      " 125  34  11 111   7   1   1   1   1   1   1   1   1  15  53   1  43   1\n",
      "  91  93   1 101 123   1   1   1 113 115 118 112   1   1   1  23   1   1\n",
      "   1  85  58  49 108   2   1  31  37   1  32  35  28   1  42  71   1  19\n",
      " 102   1   1  95  57  55  22  30   1   6  13   1  54  10   1  21  50   9\n",
      "  25  40  59  70  60   1   1   1   1   1   1   1   1  61   1   1  24  46]\n"
     ]
    }
   ],
   "source": [
    "from xgboost import XGBClassifier\n",
    "cv = StratifiedKFold(2)\n",
    "rfe = RFECV(XGBClassifier(), cv=cv, scoring='accuracy')\n",
    "\n",
    "rfe = rfe.fit(features, labels)\n",
    "\n",
    "print(rfe.support_)\n",
    "print(rfe.ranking_)"
   ]
  },
  {
   "cell_type": "code",
   "execution_count": 9,
   "metadata": {},
   "outputs": [],
   "source": [
    "mask = rfe.get_support() #list of booleans\n",
    "new_features = [] # The list of your K best features\n",
    "\n",
    "for bool, feature in zip(mask, features):\n",
    "    if bool:\n",
    "        new_features.append(feature)"
   ]
  },
  {
   "cell_type": "code",
   "execution_count": 10,
   "metadata": {},
   "outputs": [
    {
     "data": {
      "text/plain": [
       "['ad campaign hit',\n",
       " 'brand listing',\n",
       " 'checkout',\n",
       " 'conversion',\n",
       " 'search engine hit',\n",
       " 'time_score',\n",
       " 'promedio dias',\n",
       " 'storage_16GB',\n",
       " 'storage_8GB',\n",
       " 'marca_Samsung',\n",
       " 'marca_iPhone',\n",
       " 'color_Branco Framboesa',\n",
       " 'color_Dourado',\n",
       " 'color_Preto',\n",
       " 'color_Preto Brilhante',\n",
       " 'color_Preto Matte',\n",
       " 'color_Rosa',\n",
       " 'coincide',\n",
       " 'sessions',\n",
       " 'total_time',\n",
       " 'mean_time_by_session',\n",
       " 'max_session_time',\n",
       " 'mean_events_by_session',\n",
       " 'max_events_by_session',\n",
       " 'days_since_last_session',\n",
       " 'Suma de TFidf busquedas',\n",
       " 'Minimo de TFIdf busquedas',\n",
       " 'same_product_max_views',\n",
       " 'viewed/checkout gral',\n",
       " 'Computer',\n",
       " 'Smartphone',\n",
       " 'city',\n",
       " 'city_ranking',\n",
       " 'most_frequent_model',\n",
       " 'skusum',\n",
       " 'daysum',\n",
       " 'horasum',\n",
       " 'weekday_Sundaysum',\n",
       " 'weekday_Wednesdaysum',\n",
       " 'periodo_nochesum',\n",
       " 'mes_Febsum',\n",
       " 'mes_Maysum',\n",
       " 'skumean',\n",
       " 'weekday_Mondaymean',\n",
       " 'weekday_Thursdaymean',\n",
       " 'periodo_madrugadamean',\n",
       " 'mes_Maymean',\n",
       " 'suma',\n",
       " 'promedio',\n",
       " 'maximo',\n",
       " 'minimo',\n",
       " 'suma_resolution',\n",
       " 'promedio_resolution',\n",
       " 'maximo_resolution',\n",
       " 'promedio de TFIdf modelo',\n",
       " 'Suma de TFidf modelo']"
      ]
     },
     "execution_count": 10,
     "metadata": {},
     "output_type": "execute_result"
    }
   ],
   "source": [
    "new_features"
   ]
  },
  {
   "cell_type": "code",
   "execution_count": 13,
   "metadata": {},
   "outputs": [
    {
     "name": "stdout",
     "output_type": "stream",
     "text": [
      "Optimal number of features : 56\n"
     ]
    },
    {
     "data": {
      "image/png": "[encoded data removed]",
      "text/plain": [
       "<Figure size 1440x720 with 1 Axes>"
      ]
     },
     "metadata": {},
     "output_type": "display_data"
    }
   ],
   "source": [
    "print(\"Optimal number of features : %d\" % rfe.n_features_)\n",
    "\n",
    "# Plot number of features VS. cross-validation scores\n",
    "plt.figure(figsize=(20,10))\n",
    "plt.xlabel(\"Number of features selected\")\n",
    "plt.ylabel(\"Cross validation score (nb of correct classifications)\")\n",
    "\n",
    "plt.plot(range(1, len(rfe.grid_scores_) + 1), rfe.grid_scores_)\n",
    "plt.show()"
   ]
  },
  {
   "cell_type": "code",
   "execution_count": null,
   "metadata": {},
   "outputs": [],
   "source": []
  },
  {
   "cell_type": "code",
   "execution_count": null,
   "metadata": {},
   "outputs": [],
   "source": []
  },
  {
   "cell_type": "code",
   "execution_count": null,
   "metadata": {},
   "outputs": [],
   "source": []
  },
  {
   "cell_type": "code",
   "execution_count": null,
   "metadata": {},
   "outputs": [],
   "source": []
  },
  {
   "cell_type": "code",
   "execution_count": null,
   "metadata": {},
   "outputs": [],
   "source": []
  }
 ],
 "metadata": {
  "kernelspec": {
   "display_name": "Python 3",
   "language": "python",
   "name": "python3"
  },
  "language_info": {
   "codemirror_mode": {
    "name": "ipython",
    "version": 3
   },
   "file_extension": ".py",
   "mimetype": "text/x-python",
   "name": "python",
   "nbconvert_exporter": "python",
   "pygments_lexer": "ipython3",
   "version": "3.6.5"
  }
 },
 "nbformat": 4,
 "nbformat_minor": 2
}
