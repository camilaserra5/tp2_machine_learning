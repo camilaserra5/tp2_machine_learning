{
 "cells": [
  {
   "cell_type": "code",
   "execution_count": 56,
   "metadata": {},
   "outputs": [],
   "source": [
    "import pandas as pd\n",
    "import numpy as np\n",
    "import matplotlib.pyplot as plt\n",
    "import seaborn as sns\n",
    "from datetime import datetime\n",
    "\n",
    "from sklearn import tree\n",
    "from sklearn.tree import DecisionTreeClassifier\n",
    "from sklearn.model_selection import train_test_split\n",
    "from sklearn.metrics import accuracy_score\n",
    "from sklearn import preprocessing\n",
    "from sklearn.externals import joblib\n",
    "from sklearn.ensemble import RandomForestClassifier\n",
    "\n",
    "%matplotlib inline"
   ]
  },
  {
   "cell_type": "code",
   "execution_count": 57,
   "metadata": {},
   "outputs": [],
   "source": [
    "plt.rc('figure',dpi=100);"
   ]
  },
  {
   "cell_type": "code",
   "execution_count": 82,
   "metadata": {},
   "outputs": [],
   "source": [
    "training_labels = pd.read_csv(\"set_entrenamiento.csv\", low_memory=False)\n",
    "labels_predict = pd.read_csv(\"trocafone_kaggle_test.csv\", low_memory=False)\n",
    "data = pd.read_csv(\"data_set.csv\", low_memory = False)"
   ]
  },
  {
   "cell_type": "code",
   "execution_count": 83,
   "metadata": {},
   "outputs": [],
   "source": [
    "training_labels = training_labels[['person','label']]\n",
    "#data = data.drop(columns = {'Email','Unknown','Social','days_since_last_session',})\n",
    "#data = data[['person', 'checkout', 'conversion', 'generic listing', 'search engine hit', 'searched products','staticpage', 'promedio dias', 'visited site','retornos', 'total_time', 'max_session_time','sessions','mean_time_by_session', 'viewed product','max_events_by_session']]\n",
    "#data = data[['person', 'ad campaign hit','Email', 'Organic', 'Paid', 'Social', 'brand listing', 'checkout', 'conversion', 'generic listing', 'search engine hit', 'searched products', 'staticpage', 'viewed product', 'visited site', 'promedio dias', 'retornos', 'longitud busqueda', 'total_time', 'max_session_time', 'mean_events_by_session', 'days_since_last_session']]"
   ]
  },
  {
   "cell_type": "code",
   "execution_count": 84,
   "metadata": {},
   "outputs": [
    {
     "data": {
      "text/plain": [
       "(38829, 37)"
      ]
     },
     "execution_count": 84,
     "metadata": {},
     "output_type": "execute_result"
    }
   ],
   "source": [
    "data.shape"
   ]
  },
  {
   "cell_type": "code",
   "execution_count": 85,
   "metadata": {},
   "outputs": [
    {
     "data": {
      "text/plain": [
       "1    980\n",
       "0    980\n",
       "Name: label, dtype: int64"
      ]
     },
     "execution_count": 85,
     "metadata": {},
     "output_type": "execute_result"
    }
   ],
   "source": [
    "#training_labels = training_labels.head(1960)\n",
    "training_labels['label'].value_counts()"
   ]
  },
  {
   "cell_type": "code",
   "execution_count": 86,
   "metadata": {},
   "outputs": [
    {
     "data": {
      "text/plain": [
       "1    980\n",
       "0    980\n",
       "Name: label, dtype: int64"
      ]
     },
     "execution_count": 86,
     "metadata": {},
     "output_type": "execute_result"
    }
   ],
   "source": [
    "features = pd.merge(training_labels, data, on='person', how='inner')\n",
    "features = features.fillna(0)\n",
    "features['label'].value_counts()"
   ]
  },
  {
   "cell_type": "code",
   "execution_count": 87,
   "metadata": {},
   "outputs": [
    {
     "name": "stdout",
     "output_type": "stream",
     "text": [
      "Train:  1764 Test:  196\n"
     ]
    }
   ],
   "source": [
    "RANDOM_SEED = 123\n",
    "train, test = train_test_split(features,test_size=0.10,random_state=RANDOM_SEED)\n",
    "print(\"Train: \",len(train),\"Test: \",len(test))\n",
    "features=list(features.columns)\n",
    "features.remove('person')\n",
    "features.remove('label')\n",
    "\n",
    "x_train=train[features]\n",
    "y_train=train['label']\n",
    "\n",
    "x_test=test[features]\n",
    "y_test=test['label']"
   ]
  },
  {
   "cell_type": "code",
   "execution_count": 88,
   "metadata": {},
   "outputs": [],
   "source": [
    "def grid_search():\n",
    "    n_estimators = [20,30,40,50,60,70,80,90,100]\n",
    "    min_samples_split = [10,15,20,25,30,35,40,45,50]\n",
    "    n_jobs = [-1]\n",
    "    maximos = []\n",
    "    max_score = 0\n",
    "    for n_est in n_estimators:\n",
    "        for min_sam in min_samples_split:\n",
    "            for n_j in n_jobs:\n",
    "                c=RandomForestClassifier(n_estimators=n_est,min_samples_split=min_sam,n_jobs=n_j,random_state=0,class_weight=\"balanced\",criterion = 'entropy')\n",
    "                dt=c.fit(x_train,y_train)\n",
    "                score=c.score(x_test,y_test)*100\n",
    "                if max_score < score:\n",
    "                    maximos = [n_est,min_sam,n_j]\n",
    "                    max_score = score\n",
    "                #print(\"n_estimators : \"+ str(n_est)+\"; min_samples_split: \"+str(min_sam)+\"; n_job: \"+str(n_j)+\"; SCORE: \"+ str(score))\n",
    "    print(\"El mejor score fue: \"+str(max_score))\n",
    "    return maximos"
   ]
  },
  {
   "cell_type": "code",
   "execution_count": 89,
   "metadata": {},
   "outputs": [
    {
     "name": "stdout",
     "output_type": "stream",
     "text": [
      "El mejor score fue: 80.10204081632652\n"
     ]
    },
    {
     "data": {
      "text/plain": [
       "[70, 35, -1]"
      ]
     },
     "execution_count": 89,
     "metadata": {},
     "output_type": "execute_result"
    }
   ],
   "source": [
    "mejores_hiperparmetros = grid_search()\n",
    "mejores_hiperparmetros"
   ]
  },
  {
   "cell_type": "code",
   "execution_count": 90,
   "metadata": {},
   "outputs": [],
   "source": [
    "c=RandomForestClassifier(n_estimators=mejores_hiperparmetros[0],min_samples_split=mejores_hiperparmetros[1]\n",
    "                         ,n_jobs=mejores_hiperparmetros[2],random_state=0,class_weight=\"balanced\",criterion = 'entropy')\n",
    "dt=c.fit(x_train,y_train)"
   ]
  },
  {
   "cell_type": "code",
   "execution_count": 91,
   "metadata": {},
   "outputs": [
    {
     "data": {
      "text/plain": [
       "80.10204081632652"
      ]
     },
     "execution_count": 91,
     "metadata": {},
     "output_type": "execute_result"
    }
   ],
   "source": [
    "score=c.score(x_test,y_test)*100\n",
    "score"
   ]
  },
  {
   "cell_type": "code",
   "execution_count": 92,
   "metadata": {},
   "outputs": [],
   "source": [
    "prediccion=pd.merge(labels_predict,data,on='person',how='inner')\n",
    "prediccion = prediccion.fillna(0)"
   ]
  },
  {
   "cell_type": "code",
   "execution_count": 93,
   "metadata": {},
   "outputs": [
    {
     "data": {
      "text/plain": [
       "(19415, 1)"
      ]
     },
     "execution_count": 93,
     "metadata": {},
     "output_type": "execute_result"
    }
   ],
   "source": [
    "labels_predict.shape"
   ]
  },
  {
   "cell_type": "code",
   "execution_count": 94,
   "metadata": {},
   "outputs": [
    {
     "data": {
      "text/plain": [
       "array([0, 1, 0, ..., 1, 1, 1])"
      ]
     },
     "execution_count": 94,
     "metadata": {},
     "output_type": "execute_result"
    }
   ],
   "source": [
    "x_final=prediccion[features]\n",
    "y_final=c.predict(x_final)\n",
    "y_final"
   ]
  },
  {
   "cell_type": "code",
   "execution_count": 95,
   "metadata": {},
   "outputs": [
    {
     "data": {
      "text/html": [
       "<div>\n",
       "<style scoped>\n",
       "    .dataframe tbody tr th:only-of-type {\n",
       "        vertical-align: middle;\n",
       "    }\n",
       "\n",
       "    .dataframe tbody tr th {\n",
       "        vertical-align: top;\n",
       "    }\n",
       "\n",
       "    .dataframe thead th {\n",
       "        text-align: right;\n",
       "    }\n",
       "</style>\n",
       "<table border=\"1\" class=\"dataframe\">\n",
       "  <thead>\n",
       "    <tr style=\"text-align: right;\">\n",
       "      <th></th>\n",
       "      <th>person</th>\n",
       "      <th>Direct</th>\n",
       "      <th>Email</th>\n",
       "      <th>Organic</th>\n",
       "      <th>Paid</th>\n",
       "      <th>Referral</th>\n",
       "      <th>Social</th>\n",
       "      <th>ad campaign hit</th>\n",
       "      <th>brand listing</th>\n",
       "      <th>checkout</th>\n",
       "      <th>...</th>\n",
       "      <th>max_events_by_session</th>\n",
       "      <th>days_since_last_session</th>\n",
       "      <th>promedio de TFIdf</th>\n",
       "      <th>different_products_views</th>\n",
       "      <th>total_views</th>\n",
       "      <th>same_product_max_views</th>\n",
       "      <th>viewed/checkouted min</th>\n",
       "      <th>viewed/checkouted max</th>\n",
       "      <th>viewed/checkout gral</th>\n",
       "      <th>label</th>\n",
       "    </tr>\n",
       "  </thead>\n",
       "  <tbody>\n",
       "    <tr>\n",
       "      <th>0</th>\n",
       "      <td>4886f805</td>\n",
       "      <td>0.0</td>\n",
       "      <td>0.0</td>\n",
       "      <td>0.0</td>\n",
       "      <td>1.0</td>\n",
       "      <td>0.0</td>\n",
       "      <td>0.0</td>\n",
       "      <td>0</td>\n",
       "      <td>0</td>\n",
       "      <td>1</td>\n",
       "      <td>...</td>\n",
       "      <td>9</td>\n",
       "      <td>186</td>\n",
       "      <td>1.000000</td>\n",
       "      <td>2.0</td>\n",
       "      <td>4.0</td>\n",
       "      <td>3.0</td>\n",
       "      <td>1.0</td>\n",
       "      <td>0.0</td>\n",
       "      <td>2.0</td>\n",
       "      <td>0</td>\n",
       "    </tr>\n",
       "    <tr>\n",
       "      <th>1</th>\n",
       "      <td>0297fc1e</td>\n",
       "      <td>17.0</td>\n",
       "      <td>0.0</td>\n",
       "      <td>56.0</td>\n",
       "      <td>1.0</td>\n",
       "      <td>0.0</td>\n",
       "      <td>0.0</td>\n",
       "      <td>29</td>\n",
       "      <td>4</td>\n",
       "      <td>7</td>\n",
       "      <td>...</td>\n",
       "      <td>18</td>\n",
       "      <td>176</td>\n",
       "      <td>1.146942</td>\n",
       "      <td>105.0</td>\n",
       "      <td>404.0</td>\n",
       "      <td>45.0</td>\n",
       "      <td>1.0</td>\n",
       "      <td>0.0</td>\n",
       "      <td>21.0</td>\n",
       "      <td>1</td>\n",
       "    </tr>\n",
       "    <tr>\n",
       "      <th>2</th>\n",
       "      <td>2d681dd8</td>\n",
       "      <td>0.0</td>\n",
       "      <td>0.0</td>\n",
       "      <td>0.0</td>\n",
       "      <td>1.0</td>\n",
       "      <td>0.0</td>\n",
       "      <td>0.0</td>\n",
       "      <td>1</td>\n",
       "      <td>5</td>\n",
       "      <td>1</td>\n",
       "      <td>...</td>\n",
       "      <td>16</td>\n",
       "      <td>177</td>\n",
       "      <td>1.331171</td>\n",
       "      <td>10.0</td>\n",
       "      <td>13.0</td>\n",
       "      <td>3.0</td>\n",
       "      <td>1.0</td>\n",
       "      <td>0.0</td>\n",
       "      <td>10.0</td>\n",
       "      <td>0</td>\n",
       "    </tr>\n",
       "    <tr>\n",
       "      <th>3</th>\n",
       "      <td>cccea85e</td>\n",
       "      <td>1.0</td>\n",
       "      <td>0.0</td>\n",
       "      <td>1.0</td>\n",
       "      <td>14.0</td>\n",
       "      <td>0.0</td>\n",
       "      <td>0.0</td>\n",
       "      <td>15</td>\n",
       "      <td>7</td>\n",
       "      <td>1</td>\n",
       "      <td>...</td>\n",
       "      <td>104</td>\n",
       "      <td>173</td>\n",
       "      <td>1.375124</td>\n",
       "      <td>188.0</td>\n",
       "      <td>739.0</td>\n",
       "      <td>34.0</td>\n",
       "      <td>1.0</td>\n",
       "      <td>0.0</td>\n",
       "      <td>188.0</td>\n",
       "      <td>1</td>\n",
       "    </tr>\n",
       "    <tr>\n",
       "      <th>4</th>\n",
       "      <td>4c8a8b93</td>\n",
       "      <td>9.0</td>\n",
       "      <td>0.0</td>\n",
       "      <td>2.0</td>\n",
       "      <td>3.0</td>\n",
       "      <td>0.0</td>\n",
       "      <td>0.0</td>\n",
       "      <td>14</td>\n",
       "      <td>8</td>\n",
       "      <td>2</td>\n",
       "      <td>...</td>\n",
       "      <td>51</td>\n",
       "      <td>182</td>\n",
       "      <td>1.303777</td>\n",
       "      <td>69.0</td>\n",
       "      <td>177.0</td>\n",
       "      <td>10.0</td>\n",
       "      <td>1.0</td>\n",
       "      <td>0.0</td>\n",
       "      <td>34.5</td>\n",
       "      <td>1</td>\n",
       "    </tr>\n",
       "  </tbody>\n",
       "</table>\n",
       "<p>5 rows × 38 columns</p>\n",
       "</div>"
      ],
      "text/plain": [
       "     person  Direct  Email  Organic  Paid  Referral  Social  ad campaign hit  \\\n",
       "0  4886f805     0.0    0.0      0.0   1.0       0.0     0.0                0   \n",
       "1  0297fc1e    17.0    0.0     56.0   1.0       0.0     0.0               29   \n",
       "2  2d681dd8     0.0    0.0      0.0   1.0       0.0     0.0                1   \n",
       "3  cccea85e     1.0    0.0      1.0  14.0       0.0     0.0               15   \n",
       "4  4c8a8b93     9.0    0.0      2.0   3.0       0.0     0.0               14   \n",
       "\n",
       "   brand listing  checkout  ...    max_events_by_session  \\\n",
       "0              0         1  ...                        9   \n",
       "1              4         7  ...                       18   \n",
       "2              5         1  ...                       16   \n",
       "3              7         1  ...                      104   \n",
       "4              8         2  ...                       51   \n",
       "\n",
       "   days_since_last_session  promedio de TFIdf  different_products_views  \\\n",
       "0                      186           1.000000                       2.0   \n",
       "1                      176           1.146942                     105.0   \n",
       "2                      177           1.331171                      10.0   \n",
       "3                      173           1.375124                     188.0   \n",
       "4                      182           1.303777                      69.0   \n",
       "\n",
       "   total_views  same_product_max_views  viewed/checkouted min  \\\n",
       "0          4.0                     3.0                    1.0   \n",
       "1        404.0                    45.0                    1.0   \n",
       "2         13.0                     3.0                    1.0   \n",
       "3        739.0                    34.0                    1.0   \n",
       "4        177.0                    10.0                    1.0   \n",
       "\n",
       "   viewed/checkouted max  viewed/checkout gral  label  \n",
       "0                    0.0                   2.0      0  \n",
       "1                    0.0                  21.0      1  \n",
       "2                    0.0                  10.0      0  \n",
       "3                    0.0                 188.0      1  \n",
       "4                    0.0                  34.5      1  \n",
       "\n",
       "[5 rows x 38 columns]"
      ]
     },
     "execution_count": 95,
     "metadata": {},
     "output_type": "execute_result"
    }
   ],
   "source": [
    "prediccion['label']=y_final\n",
    "prediccion.head()"
   ]
  },
  {
   "cell_type": "code",
   "execution_count": 96,
   "metadata": {},
   "outputs": [
    {
     "data": {
      "text/plain": [
       "0    13356\n",
       "1     6059\n",
       "Name: label, dtype: int64"
      ]
     },
     "execution_count": 96,
     "metadata": {},
     "output_type": "execute_result"
    }
   ],
   "source": [
    "prediccion['label'].value_counts()"
   ]
  },
  {
   "cell_type": "code",
   "execution_count": null,
   "metadata": {},
   "outputs": [],
   "source": []
  },
  {
   "cell_type": "code",
   "execution_count": 97,
   "metadata": {},
   "outputs": [],
   "source": [
    "prediccion[['person', 'label']].to_csv('RandomForestResults.csv',index=False)"
   ]
  },
  {
   "cell_type": "code",
   "execution_count": null,
   "metadata": {},
   "outputs": [],
   "source": []
  },
  {
   "cell_type": "code",
   "execution_count": 98,
   "metadata": {},
   "outputs": [
    {
     "name": "stdout",
     "output_type": "stream",
     "text": [
      "Variable: checkout Importance: 0.13\n",
      "Variable: viewed/checkout gral Importance: 0.11\n",
      "Variable: days_since_last_session Importance: 0.09\n",
      "Variable: viewed/checkouted min Importance: 0.06\n",
      "Variable: total_time Importance: 0.05\n",
      "Variable: viewed product Importance: 0.04\n",
      "Variable: promedio dias Importance: 0.04\n",
      "Variable: max_session_time Importance: 0.04\n",
      "Variable: different_products_views Importance: 0.04\n",
      "Variable: total_views Importance: 0.04\n",
      "Variable: brand listing Importance: 0.03\n",
      "Variable: promedio hora Importance: 0.03\n",
      "Variable: mean_time_by_session Importance: 0.03\n",
      "Variable: max_events_by_session Importance: 0.03\n",
      "Variable: generic listing Importance: 0.02\n",
      "Variable: search engine hit Importance: 0.02\n",
      "Variable: visited site Importance: 0.02\n",
      "Variable: sessions Importance: 0.02\n",
      "Variable: mean_events_by_session Importance: 0.02\n",
      "Variable: same_product_max_views Importance: 0.02\n",
      "Variable: viewed/checkouted max Importance: 0.02\n",
      "Variable: Direct Importance: 0.01\n",
      "Variable: Organic Importance: 0.01\n",
      "Variable: Paid Importance: 0.01\n",
      "Variable: ad campaign hit Importance: 0.01\n",
      "Variable: conversion Importance: 0.01\n",
      "Variable: searched products Importance: 0.01\n",
      "Variable: retornos Importance: 0.01\n",
      "Variable: longitud busqueda Importance: 0.01\n",
      "Variable: coincide Importance: 0.01\n",
      "Variable: promedio de TFIdf Importance: 0.01\n",
      "Variable: Email Importance: 0.0\n",
      "Variable: Referral Importance: 0.0\n",
      "Variable: Social Importance: 0.0\n",
      "Variable: lead Importance: 0.0\n",
      "Variable: staticpage Importance: 0.0\n"
     ]
    }
   ],
   "source": [
    "# Get numerical feature importances\n",
    "importances = list(c.feature_importances_)\n",
    "# List of tuples with variable and importance\n",
    "feature_importances = [(feature, round(importance, 2)) for feature, importance in zip(features, importances)]\n",
    "# Sort the feature importances by most important first\n",
    "feature_importances = sorted(feature_importances, key = lambda x: x[1], reverse = True)\n",
    "# Print out the feature and importances \n",
    "[print('Variable: {} Importance: {}'.format(*pair)) for pair in feature_importances];"
   ]
  },
  {
   "cell_type": "code",
   "execution_count": null,
   "metadata": {},
   "outputs": [],
   "source": []
  },
  {
   "cell_type": "code",
   "execution_count": null,
   "metadata": {},
   "outputs": [],
   "source": []
  },
  {
   "cell_type": "code",
   "execution_count": null,
   "metadata": {},
   "outputs": [],
   "source": []
  },
  {
   "cell_type": "code",
   "execution_count": null,
   "metadata": {},
   "outputs": [],
   "source": []
  }
 ],
 "metadata": {
  "kernelspec": {
   "display_name": "Python 3",
   "language": "python",
   "name": "python3"
  },
  "language_info": {
   "codemirror_mode": {
    "name": "ipython",
    "version": 3
   },
   "file_extension": ".py",
   "mimetype": "text/x-python",
   "name": "python",
   "nbconvert_exporter": "python",
   "pygments_lexer": "ipython3",
   "version": "3.6.5"
  }
 },
 "nbformat": 4,
 "nbformat_minor": 2
}
