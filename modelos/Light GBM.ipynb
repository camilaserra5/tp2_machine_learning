{
 "cells": [
  {
   "cell_type": "code",
   "execution_count": 144,
   "metadata": {},
   "outputs": [],
   "source": [
    "import pandas as pd\n",
    "import numpy as np\n",
    "import matplotlib.pyplot as plt\n",
    "import seaborn as sns\n",
    "from datetime import datetime\n",
    "from sklearn.model_selection import GridSearchCV\n",
    "\n",
    "from sklearn import metrics\n",
    "from sklearn.metrics import roc_curve, auc\n",
    "from sklearn.model_selection import train_test_split\n",
    "from sklearn.metrics import accuracy_score\n",
    "from sklearn.neighbors import KNeighborsClassifier\n",
    "%matplotlib inline"
   ]
  },
  {
   "cell_type": "code",
   "execution_count": 145,
   "metadata": {},
   "outputs": [],
   "source": [
    "training_labels = pd.read_csv(\"set_entrenamiento.csv\", low_memory=False)\n",
    "labels_predict = pd.read_csv(\"trocafone_kaggle_test.csv\", low_memory=False)\n",
    "data = pd.read_csv(\"data_set.csv\", low_memory = False)"
   ]
  },
  {
   "cell_type": "code",
   "execution_count": 146,
   "metadata": {},
   "outputs": [
    {
     "data": {
      "text/plain": [
       "1    980\n",
       "0    980\n",
       "Name: label, dtype: int64"
      ]
     },
     "execution_count": 146,
     "metadata": {},
     "output_type": "execute_result"
    }
   ],
   "source": [
    "training_labels = training_labels[['person','label']]\n",
    "training_labels['label'].value_counts()"
   ]
  },
  {
   "cell_type": "code",
   "execution_count": 147,
   "metadata": {},
   "outputs": [
    {
     "data": {
      "text/html": [
       "<div>\n",
       "<style scoped>\n",
       "    .dataframe tbody tr th:only-of-type {\n",
       "        vertical-align: middle;\n",
       "    }\n",
       "\n",
       "    .dataframe tbody tr th {\n",
       "        vertical-align: top;\n",
       "    }\n",
       "\n",
       "    .dataframe thead th {\n",
       "        text-align: right;\n",
       "    }\n",
       "</style>\n",
       "<table border=\"1\" class=\"dataframe\">\n",
       "  <thead>\n",
       "    <tr style=\"text-align: right;\">\n",
       "      <th></th>\n",
       "      <th>person</th>\n",
       "      <th>Direct</th>\n",
       "      <th>Email</th>\n",
       "      <th>Organic</th>\n",
       "      <th>Paid</th>\n",
       "      <th>Referral</th>\n",
       "      <th>Social</th>\n",
       "      <th>ad campaign hit</th>\n",
       "      <th>brand listing</th>\n",
       "      <th>checkout</th>\n",
       "      <th>...</th>\n",
       "      <th>same_product_max_views</th>\n",
       "      <th>viewed/checkouted min</th>\n",
       "      <th>viewed/checkouted max</th>\n",
       "      <th>viewed/checkout gral</th>\n",
       "      <th>Computer</th>\n",
       "      <th>Smartphone</th>\n",
       "      <th>Tablet</th>\n",
       "      <th>country_Computer</th>\n",
       "      <th>country_Smartphone</th>\n",
       "      <th>country_Tablet</th>\n",
       "    </tr>\n",
       "  </thead>\n",
       "  <tbody>\n",
       "    <tr>\n",
       "      <th>0</th>\n",
       "      <td>0008ed71</td>\n",
       "      <td>2.0</td>\n",
       "      <td>0.0</td>\n",
       "      <td>0.0</td>\n",
       "      <td>0.0</td>\n",
       "      <td>0.0</td>\n",
       "      <td>0.0</td>\n",
       "      <td>0</td>\n",
       "      <td>0</td>\n",
       "      <td>3</td>\n",
       "      <td>...</td>\n",
       "      <td>0.0</td>\n",
       "      <td>-1.0</td>\n",
       "      <td>-1.0</td>\n",
       "      <td>0.00</td>\n",
       "      <td>2.0</td>\n",
       "      <td>0.0</td>\n",
       "      <td>0.0</td>\n",
       "      <td>1.0</td>\n",
       "      <td>0.0</td>\n",
       "      <td>0.0</td>\n",
       "    </tr>\n",
       "    <tr>\n",
       "      <th>1</th>\n",
       "      <td>00091926</td>\n",
       "      <td>1.0</td>\n",
       "      <td>0.0</td>\n",
       "      <td>25.0</td>\n",
       "      <td>0.0</td>\n",
       "      <td>0.0</td>\n",
       "      <td>0.0</td>\n",
       "      <td>15</td>\n",
       "      <td>25</td>\n",
       "      <td>2</td>\n",
       "      <td>...</td>\n",
       "      <td>33.0</td>\n",
       "      <td>1.0</td>\n",
       "      <td>0.0</td>\n",
       "      <td>82.00</td>\n",
       "      <td>34.0</td>\n",
       "      <td>0.0</td>\n",
       "      <td>0.0</td>\n",
       "      <td>1.0</td>\n",
       "      <td>0.0</td>\n",
       "      <td>0.0</td>\n",
       "    </tr>\n",
       "    <tr>\n",
       "      <th>2</th>\n",
       "      <td>00091a7a</td>\n",
       "      <td>0.0</td>\n",
       "      <td>0.0</td>\n",
       "      <td>0.0</td>\n",
       "      <td>0.0</td>\n",
       "      <td>0.0</td>\n",
       "      <td>0.0</td>\n",
       "      <td>1</td>\n",
       "      <td>5</td>\n",
       "      <td>0</td>\n",
       "      <td>...</td>\n",
       "      <td>1.0</td>\n",
       "      <td>0.0</td>\n",
       "      <td>0.0</td>\n",
       "      <td>-1.00</td>\n",
       "      <td>0.0</td>\n",
       "      <td>1.0</td>\n",
       "      <td>0.0</td>\n",
       "      <td>0.0</td>\n",
       "      <td>1.0</td>\n",
       "      <td>0.0</td>\n",
       "    </tr>\n",
       "    <tr>\n",
       "      <th>3</th>\n",
       "      <td>000ba417</td>\n",
       "      <td>0.0</td>\n",
       "      <td>0.0</td>\n",
       "      <td>6.0</td>\n",
       "      <td>0.0</td>\n",
       "      <td>0.0</td>\n",
       "      <td>0.0</td>\n",
       "      <td>1</td>\n",
       "      <td>24</td>\n",
       "      <td>6</td>\n",
       "      <td>...</td>\n",
       "      <td>10.0</td>\n",
       "      <td>1.0</td>\n",
       "      <td>0.0</td>\n",
       "      <td>20.25</td>\n",
       "      <td>6.0</td>\n",
       "      <td>0.0</td>\n",
       "      <td>0.0</td>\n",
       "      <td>1.0</td>\n",
       "      <td>0.0</td>\n",
       "      <td>0.0</td>\n",
       "    </tr>\n",
       "    <tr>\n",
       "      <th>4</th>\n",
       "      <td>000c79fe</td>\n",
       "      <td>0.0</td>\n",
       "      <td>0.0</td>\n",
       "      <td>0.0</td>\n",
       "      <td>0.0</td>\n",
       "      <td>0.0</td>\n",
       "      <td>0.0</td>\n",
       "      <td>1</td>\n",
       "      <td>0</td>\n",
       "      <td>1</td>\n",
       "      <td>...</td>\n",
       "      <td>3.0</td>\n",
       "      <td>1.0</td>\n",
       "      <td>1.0</td>\n",
       "      <td>1.00</td>\n",
       "      <td>0.0</td>\n",
       "      <td>1.0</td>\n",
       "      <td>0.0</td>\n",
       "      <td>0.0</td>\n",
       "      <td>1.0</td>\n",
       "      <td>0.0</td>\n",
       "    </tr>\n",
       "  </tbody>\n",
       "</table>\n",
       "<p>5 rows × 43 columns</p>\n",
       "</div>"
      ],
      "text/plain": [
       "     person  Direct  Email  Organic  Paid  Referral  Social  ad campaign hit  \\\n",
       "0  0008ed71     2.0    0.0      0.0   0.0       0.0     0.0                0   \n",
       "1  00091926     1.0    0.0     25.0   0.0       0.0     0.0               15   \n",
       "2  00091a7a     0.0    0.0      0.0   0.0       0.0     0.0                1   \n",
       "3  000ba417     0.0    0.0      6.0   0.0       0.0     0.0                1   \n",
       "4  000c79fe     0.0    0.0      0.0   0.0       0.0     0.0                1   \n",
       "\n",
       "   brand listing  checkout       ...        same_product_max_views  \\\n",
       "0              0         3       ...                           0.0   \n",
       "1             25         2       ...                          33.0   \n",
       "2              5         0       ...                           1.0   \n",
       "3             24         6       ...                          10.0   \n",
       "4              0         1       ...                           3.0   \n",
       "\n",
       "   viewed/checkouted min  viewed/checkouted max  viewed/checkout gral  \\\n",
       "0                   -1.0                   -1.0                  0.00   \n",
       "1                    1.0                    0.0                 82.00   \n",
       "2                    0.0                    0.0                 -1.00   \n",
       "3                    1.0                    0.0                 20.25   \n",
       "4                    1.0                    1.0                  1.00   \n",
       "\n",
       "   Computer  Smartphone  Tablet  country_Computer  country_Smartphone  \\\n",
       "0       2.0         0.0     0.0               1.0                 0.0   \n",
       "1      34.0         0.0     0.0               1.0                 0.0   \n",
       "2       0.0         1.0     0.0               0.0                 1.0   \n",
       "3       6.0         0.0     0.0               1.0                 0.0   \n",
       "4       0.0         1.0     0.0               0.0                 1.0   \n",
       "\n",
       "   country_Tablet  \n",
       "0             0.0  \n",
       "1             0.0  \n",
       "2             0.0  \n",
       "3             0.0  \n",
       "4             0.0  \n",
       "\n",
       "[5 rows x 43 columns]"
      ]
     },
     "execution_count": 147,
     "metadata": {},
     "output_type": "execute_result"
    }
   ],
   "source": [
    "#data = data[['person','days_since_last_session','checkout','promedio dias','sessions','viewed/checkout gral',\n",
    "#             'total_views', 'viewed product', 'promedio hora','retornos']]\n",
    "data.head()"
   ]
  },
  {
   "cell_type": "code",
   "execution_count": 148,
   "metadata": {},
   "outputs": [
    {
     "data": {
      "text/plain": [
       "1    980\n",
       "0    980\n",
       "Name: label, dtype: int64"
      ]
     },
     "execution_count": 148,
     "metadata": {},
     "output_type": "execute_result"
    }
   ],
   "source": [
    "features = pd.merge(training_labels, data, on='person', how='inner')\n",
    "features = features.fillna(0)\n",
    "features['label'].value_counts()"
   ]
  },
  {
   "cell_type": "code",
   "execution_count": 149,
   "metadata": {},
   "outputs": [
    {
     "name": "stdout",
     "output_type": "stream",
     "text": [
      "Train:  1470 Test:  490\n"
     ]
    }
   ],
   "source": [
    "labels = features['label']\n",
    "features = features.drop(['label','person'], axis=1)\n",
    "x_train, x_test, y_train, y_test = train_test_split(features, labels, test_size=0.25)\n",
    "print(\"Train: \",len(x_train),\"Test: \",len(x_test))"
   ]
  },
  {
   "cell_type": "code",
   "execution_count": 150,
   "metadata": {},
   "outputs": [],
   "source": [
    "def auc2(m, train, test): \n",
    "    return (metrics.roc_auc_score(y_train,m.predict(train)),\n",
    "                            metrics.roc_auc_score(y_test,m.predict(test)))"
   ]
  },
  {
   "cell_type": "code",
   "execution_count": 123,
   "metadata": {},
   "outputs": [
    {
     "name": "stdout",
     "output_type": "stream",
     "text": [
      "Fitting 3 folds for each of 27 candidates, totalling 81 fits\n",
      "[CV] learning_rate=0.01, max_depth=25, n_estimators=200, num_leaves=300 \n",
      "[CV] learning_rate=0.01, max_depth=25, n_estimators=200, num_leaves=300 \n",
      "[CV] learning_rate=0.01, max_depth=25, n_estimators=200, num_leaves=300 \n",
      "[CV] learning_rate=0.01, max_depth=25, n_estimators=200, num_leaves=900 \n",
      "[CV] learning_rate=0.01, max_depth=25, n_estimators=200, num_leaves=900 \n",
      "[CV] learning_rate=0.01, max_depth=25, n_estimators=200, num_leaves=900 \n",
      "[CV] learning_rate=0.01, max_depth=25, n_estimators=200, num_leaves=1200 \n",
      "[CV] learning_rate=0.01, max_depth=25, n_estimators=200, num_leaves=1200 \n",
      "[CV]  learning_rate=0.01, max_depth=25, n_estimators=200, num_leaves=900, score=0.8607890177262428, total=  19.2s\n",
      "[CV] learning_rate=0.01, max_depth=25, n_estimators=200, num_leaves=1200 \n",
      "[CV]  learning_rate=0.01, max_depth=25, n_estimators=200, num_leaves=900, score=0.8401972544315608, total=  19.6s\n",
      "[CV] learning_rate=0.01, max_depth=50, n_estimators=200, num_leaves=300 \n"
     ]
    },
    {
     "name": "stderr",
     "output_type": "stream",
     "text": [
      "[Parallel(n_jobs=-1)]: Done   2 tasks      | elapsed:   19.8s\n"
     ]
    },
    {
     "name": "stdout",
     "output_type": "stream",
     "text": [
      "[CV]  learning_rate=0.01, max_depth=25, n_estimators=200, num_leaves=300, score=0.8401972544315608, total=  21.2s\n",
      "[CV] learning_rate=0.01, max_depth=50, n_estimators=200, num_leaves=300 \n",
      "[CV]  learning_rate=0.01, max_depth=25, n_estimators=200, num_leaves=900, score=0.8149323603891777, total=  21.3s\n",
      "[CV] learning_rate=0.01, max_depth=50, n_estimators=200, num_leaves=300 \n",
      "[CV]  learning_rate=0.01, max_depth=25, n_estimators=200, num_leaves=300, score=0.8149323603891777, total=  23.1s\n",
      "[CV] learning_rate=0.01, max_depth=50, n_estimators=200, num_leaves=900 \n",
      "[CV]  learning_rate=0.01, max_depth=25, n_estimators=200, num_leaves=300, score=0.8607890177262428, total=  23.7s\n",
      "[CV] learning_rate=0.01, max_depth=50, n_estimators=200, num_leaves=900 \n",
      "[CV]  learning_rate=0.01, max_depth=25, n_estimators=200, num_leaves=1200, score=0.8149323603891777, total=  34.8s\n",
      "[CV] learning_rate=0.01, max_depth=50, n_estimators=200, num_leaves=900 \n",
      "[CV]  learning_rate=0.01, max_depth=25, n_estimators=200, num_leaves=1200, score=0.8607890177262428, total=  37.4s\n",
      "[CV] learning_rate=0.01, max_depth=50, n_estimators=200, num_leaves=1200 \n",
      "[CV]  learning_rate=0.01, max_depth=50, n_estimators=200, num_leaves=300, score=0.8401972544315608, total=  20.3s\n",
      "[CV] learning_rate=0.01, max_depth=50, n_estimators=200, num_leaves=1200 \n",
      "[CV]  learning_rate=0.01, max_depth=50, n_estimators=200, num_leaves=300, score=0.8607890177262428, total=  21.9s\n",
      "[CV] learning_rate=0.01, max_depth=50, n_estimators=200, num_leaves=1200 \n",
      "[CV]  learning_rate=0.01, max_depth=50, n_estimators=200, num_leaves=300, score=0.8149323603891777, total=  23.6s\n",
      "[CV] learning_rate=0.01, max_depth=75, n_estimators=200, num_leaves=300 \n",
      "[CV]  learning_rate=0.01, max_depth=50, n_estimators=200, num_leaves=900, score=0.8607890177262428, total=  23.1s\n",
      "[CV] learning_rate=0.01, max_depth=75, n_estimators=200, num_leaves=300 \n",
      "[CV]  learning_rate=0.01, max_depth=25, n_estimators=200, num_leaves=1200, score=0.8401972544315608, total=  29.9s\n",
      "[CV] learning_rate=0.01, max_depth=75, n_estimators=200, num_leaves=300 \n",
      "[CV]  learning_rate=0.01, max_depth=50, n_estimators=200, num_leaves=900, score=0.8149323603891777, total=  26.4s\n",
      "[CV] learning_rate=0.01, max_depth=75, n_estimators=200, num_leaves=900 \n",
      "[CV]  learning_rate=0.01, max_depth=50, n_estimators=200, num_leaves=900, score=0.8401972544315608, total=  22.3s\n",
      "[CV] learning_rate=0.01, max_depth=75, n_estimators=200, num_leaves=900 \n",
      "[CV]  learning_rate=0.01, max_depth=75, n_estimators=200, num_leaves=300, score=0.8149323603891777, total=  19.8s\n",
      "[CV] learning_rate=0.01, max_depth=75, n_estimators=200, num_leaves=900 \n",
      "[CV]  learning_rate=0.01, max_depth=75, n_estimators=200, num_leaves=300, score=0.8607890177262428, total=  23.3s\n",
      "[CV] learning_rate=0.01, max_depth=75, n_estimators=200, num_leaves=1200 \n",
      "[CV]  learning_rate=0.01, max_depth=75, n_estimators=200, num_leaves=300, score=0.8401972544315608, total=  20.0s\n",
      "[CV] learning_rate=0.01, max_depth=75, n_estimators=200, num_leaves=1200 \n",
      "[CV]  learning_rate=0.01, max_depth=50, n_estimators=200, num_leaves=1200, score=0.8149323603891777, total=  29.3s\n",
      "[CV] learning_rate=0.01, max_depth=75, n_estimators=200, num_leaves=1200 \n",
      "[CV]  learning_rate=0.01, max_depth=75, n_estimators=200, num_leaves=900, score=0.8607890177262428, total=  23.1s\n",
      "[CV] learning_rate=0.05, max_depth=25, n_estimators=200, num_leaves=300 \n",
      "[CV]  learning_rate=0.01, max_depth=50, n_estimators=200, num_leaves=1200, score=0.8401972544315608, total=  33.3s\n",
      "[CV] learning_rate=0.05, max_depth=25, n_estimators=200, num_leaves=300 \n",
      "[CV]  learning_rate=0.01, max_depth=75, n_estimators=200, num_leaves=900, score=0.8149323603891777, total=  21.1s\n",
      "[CV] learning_rate=0.05, max_depth=25, n_estimators=200, num_leaves=300 \n",
      "[CV]  learning_rate=0.01, max_depth=50, n_estimators=200, num_leaves=1200, score=0.8607890177262428, total=  41.8s\n",
      "[CV] learning_rate=0.05, max_depth=25, n_estimators=200, num_leaves=900 \n",
      "[CV]  learning_rate=0.01, max_depth=75, n_estimators=200, num_leaves=900, score=0.8401972544315608, total=  21.5s\n",
      "[CV] learning_rate=0.05, max_depth=25, n_estimators=200, num_leaves=900 \n",
      "[CV]  learning_rate=0.05, max_depth=25, n_estimators=200, num_leaves=300, score=0.8592729574836733, total=  23.0s\n",
      "[CV] learning_rate=0.05, max_depth=25, n_estimators=200, num_leaves=900 \n",
      "[CV]  learning_rate=0.01, max_depth=75, n_estimators=200, num_leaves=1200, score=0.8607890177262428, total=  29.3s\n",
      "[CV] learning_rate=0.05, max_depth=25, n_estimators=200, num_leaves=1200 \n",
      "[CV]  learning_rate=0.05, max_depth=25, n_estimators=200, num_leaves=300, score=0.8204218312674929, total=  24.4s\n",
      "[CV] learning_rate=0.05, max_depth=25, n_estimators=200, num_leaves=1200 \n",
      "[CV]  learning_rate=0.01, max_depth=75, n_estimators=200, num_leaves=1200, score=0.8149323603891777, total=  30.4s\n",
      "[CV] learning_rate=0.05, max_depth=25, n_estimators=200, num_leaves=1200 \n",
      "[CV]  learning_rate=0.05, max_depth=25, n_estimators=200, num_leaves=300, score=0.8371651339464214, total=  22.2s\n",
      "[CV]  learning_rate=0.01, max_depth=75, n_estimators=200, num_leaves=1200, score=0.8401972544315608, total=  29.5s\n",
      "[CV] learning_rate=0.05, max_depth=50, n_estimators=200, num_leaves=300 \n",
      "[CV] learning_rate=0.05, max_depth=50, n_estimators=200, num_leaves=300 \n",
      "[CV]  learning_rate=0.05, max_depth=25, n_estimators=200, num_leaves=900, score=0.8592729574836733, total=  28.7s\n",
      "[CV] learning_rate=0.05, max_depth=50, n_estimators=200, num_leaves=300 \n",
      "[CV]  learning_rate=0.05, max_depth=25, n_estimators=200, num_leaves=900, score=0.8204218312674929, total=  23.4s\n",
      "[CV] learning_rate=0.05, max_depth=50, n_estimators=200, num_leaves=900 \n",
      "[CV]  learning_rate=0.05, max_depth=50, n_estimators=200, num_leaves=300, score=0.8592729574836733, total=  19.6s\n",
      "[CV] learning_rate=0.05, max_depth=50, n_estimators=200, num_leaves=900 \n",
      "[CV]  learning_rate=0.05, max_depth=25, n_estimators=200, num_leaves=900, score=0.8371651339464214, total=  24.7s\n",
      "[CV] learning_rate=0.05, max_depth=50, n_estimators=200, num_leaves=900 \n",
      "[CV]  learning_rate=0.05, max_depth=50, n_estimators=200, num_leaves=300, score=0.8204218312674929, total=  22.1s\n",
      "[CV] learning_rate=0.05, max_depth=50, n_estimators=200, num_leaves=1200 \n",
      "[CV]  learning_rate=0.05, max_depth=25, n_estimators=200, num_leaves=1200, score=0.8592729574836733, total=  29.2s\n",
      "[CV] learning_rate=0.05, max_depth=50, n_estimators=200, num_leaves=1200 \n",
      "[CV]  learning_rate=0.05, max_depth=25, n_estimators=200, num_leaves=1200, score=0.8371651339464214, total=  36.6s\n",
      "[CV] learning_rate=0.05, max_depth=50, n_estimators=200, num_leaves=1200 \n",
      "[CV]  learning_rate=0.05, max_depth=50, n_estimators=200, num_leaves=900, score=0.8592729574836733, total=  27.7s\n",
      "[CV] learning_rate=0.05, max_depth=75, n_estimators=200, num_leaves=300 \n",
      "[CV]  learning_rate=0.05, max_depth=25, n_estimators=200, num_leaves=1200, score=0.8204218312674929, total=  42.3s\n",
      "[CV] learning_rate=0.05, max_depth=75, n_estimators=200, num_leaves=300 \n",
      "[CV]  learning_rate=0.05, max_depth=50, n_estimators=200, num_leaves=300, score=0.8371651339464214, total=  35.6s\n",
      "[CV] learning_rate=0.05, max_depth=75, n_estimators=200, num_leaves=300 \n",
      "[CV]  learning_rate=0.05, max_depth=50, n_estimators=200, num_leaves=900, score=0.8204218312674929, total=  23.8s\n",
      "[CV] learning_rate=0.05, max_depth=75, n_estimators=200, num_leaves=900 \n",
      "[CV]  learning_rate=0.05, max_depth=50, n_estimators=200, num_leaves=900, score=0.8371651339464214, total=  30.4s\n",
      "[CV] learning_rate=0.05, max_depth=75, n_estimators=200, num_leaves=900 \n",
      "[CV]  learning_rate=0.05, max_depth=50, n_estimators=200, num_leaves=1200, score=0.8592729574836733, total=  34.9s\n",
      "[CV] learning_rate=0.05, max_depth=75, n_estimators=200, num_leaves=900 \n",
      "[CV]  learning_rate=0.05, max_depth=75, n_estimators=200, num_leaves=900, score=0.8592729574836733, total=  24.0s\n",
      "[CV] learning_rate=0.05, max_depth=75, n_estimators=200, num_leaves=1200 \n",
      "[CV]  learning_rate=0.05, max_depth=75, n_estimators=200, num_leaves=300, score=0.8592729574836733, total=  30.6s\n",
      "[CV] learning_rate=0.05, max_depth=75, n_estimators=200, num_leaves=1200 \n",
      "[CV]  learning_rate=0.05, max_depth=50, n_estimators=200, num_leaves=1200, score=0.8204218312674929, total=  46.3s\n",
      "[CV] learning_rate=0.05, max_depth=75, n_estimators=200, num_leaves=1200 \n"
     ]
    },
    {
     "name": "stdout",
     "output_type": "stream",
     "text": [
      "[CV]  learning_rate=0.05, max_depth=75, n_estimators=200, num_leaves=900, score=0.8204218312674929, total=  29.5s\n",
      "[CV] learning_rate=0.1, max_depth=25, n_estimators=200, num_leaves=300 \n",
      "[CV]  learning_rate=0.05, max_depth=75, n_estimators=200, num_leaves=900, score=0.8371651339464214, total=  25.6s\n",
      "[CV] learning_rate=0.1, max_depth=25, n_estimators=200, num_leaves=300 \n",
      "[CV]  learning_rate=0.05, max_depth=75, n_estimators=200, num_leaves=300, score=0.8371651339464214, total=  40.8s\n",
      "[CV] learning_rate=0.1, max_depth=25, n_estimators=200, num_leaves=300 \n",
      "[CV]  learning_rate=0.05, max_depth=75, n_estimators=200, num_leaves=300, score=0.8204218312674929, total=  46.1s\n",
      "[CV] learning_rate=0.1, max_depth=25, n_estimators=200, num_leaves=900 \n",
      "[CV]  learning_rate=0.05, max_depth=50, n_estimators=200, num_leaves=1200, score=0.8371651339464214, total=  57.7s\n",
      "[CV] learning_rate=0.1, max_depth=25, n_estimators=200, num_leaves=900 \n",
      "[CV]  learning_rate=0.05, max_depth=75, n_estimators=200, num_leaves=1200, score=0.8592729574836733, total=  33.8s\n",
      "[CV] learning_rate=0.1, max_depth=25, n_estimators=200, num_leaves=900 \n",
      "[CV]  learning_rate=0.05, max_depth=75, n_estimators=200, num_leaves=1200, score=0.8204218312674929, total=  46.4s\n",
      "[CV] learning_rate=0.1, max_depth=25, n_estimators=200, num_leaves=1200 \n",
      "[CV]  learning_rate=0.1, max_depth=25, n_estimators=200, num_leaves=300, score=0.8536252165800348, total=  35.9s\n",
      "[CV]  learning_rate=0.1, max_depth=25, n_estimators=200, num_leaves=300, score=0.8220545115287218, total=  33.8s\n",
      "[CV] learning_rate=0.1, max_depth=25, n_estimators=200, num_leaves=1200 \n",
      "[CV] learning_rate=0.1, max_depth=25, n_estimators=200, num_leaves=1200 \n",
      "[CV]  learning_rate=0.1, max_depth=25, n_estimators=200, num_leaves=300, score=0.8325836332133812, total=  40.0s\n",
      "[CV] learning_rate=0.1, max_depth=50, n_estimators=200, num_leaves=300 \n"
     ]
    },
    {
     "name": "stderr",
     "output_type": "stream",
     "text": [
      "[Parallel(n_jobs=-1)]: Done  56 tasks      | elapsed:  3.8min\n"
     ]
    },
    {
     "name": "stdout",
     "output_type": "stream",
     "text": [
      "[CV]  learning_rate=0.1, max_depth=25, n_estimators=200, num_leaves=900, score=0.8325836332133812, total=  23.3s\n",
      "[CV] learning_rate=0.1, max_depth=50, n_estimators=200, num_leaves=300 \n",
      "[CV]  learning_rate=0.1, max_depth=25, n_estimators=200, num_leaves=900, score=0.8536252165800348, total=  38.8s\n",
      "[CV] learning_rate=0.1, max_depth=50, n_estimators=200, num_leaves=300 \n",
      "[CV]  learning_rate=0.05, max_depth=75, n_estimators=200, num_leaves=1200, score=0.8371651339464214, total=  55.3s\n",
      "[CV] learning_rate=0.1, max_depth=50, n_estimators=200, num_leaves=900 \n",
      "[CV]  learning_rate=0.1, max_depth=25, n_estimators=200, num_leaves=900, score=0.8220545115287218, total=  38.6s\n",
      "[CV] learning_rate=0.1, max_depth=50, n_estimators=200, num_leaves=900 \n",
      "[CV]  learning_rate=0.1, max_depth=25, n_estimators=200, num_leaves=1200, score=0.8536252165800348, total=  30.5s\n",
      "[CV] learning_rate=0.1, max_depth=50, n_estimators=200, num_leaves=900 \n",
      "[CV]  learning_rate=0.1, max_depth=50, n_estimators=200, num_leaves=300, score=0.8220545115287218, total=  23.6s\n",
      "[CV] learning_rate=0.1, max_depth=50, n_estimators=200, num_leaves=1200 \n",
      "[CV]  learning_rate=0.1, max_depth=25, n_estimators=200, num_leaves=1200, score=0.8325836332133812, total=  35.3s\n",
      "[CV] learning_rate=0.1, max_depth=50, n_estimators=200, num_leaves=1200 \n",
      "[CV]  learning_rate=0.1, max_depth=50, n_estimators=200, num_leaves=300, score=0.8325336532053845, total=  29.9s\n",
      "[CV] learning_rate=0.1, max_depth=50, n_estimators=200, num_leaves=1200 \n",
      "[CV]  learning_rate=0.1, max_depth=50, n_estimators=200, num_leaves=300, score=0.8536252165800348, total=  32.3s\n",
      "[CV] learning_rate=0.1, max_depth=75, n_estimators=200, num_leaves=300 \n",
      "[CV]  learning_rate=0.1, max_depth=50, n_estimators=200, num_leaves=900, score=0.8536252165800348, total=  30.2s\n",
      "[CV] learning_rate=0.1, max_depth=75, n_estimators=200, num_leaves=300 \n",
      "[CV]  learning_rate=0.1, max_depth=25, n_estimators=200, num_leaves=1200, score=0.8220545115287218, total=  42.0s\n",
      "[CV] learning_rate=0.1, max_depth=75, n_estimators=200, num_leaves=300 \n",
      "[CV]  learning_rate=0.1, max_depth=50, n_estimators=200, num_leaves=900, score=0.8220545115287218, total=  29.1s\n",
      "[CV] learning_rate=0.1, max_depth=75, n_estimators=200, num_leaves=900 \n",
      "[CV]  learning_rate=0.1, max_depth=50, n_estimators=200, num_leaves=900, score=0.8325336532053845, total=  21.4s\n",
      "[CV] learning_rate=0.1, max_depth=75, n_estimators=200, num_leaves=900 \n",
      "[CV]  learning_rate=0.1, max_depth=50, n_estimators=200, num_leaves=1200, score=0.8536252165800348, total=  35.0s\n",
      "[CV] learning_rate=0.1, max_depth=75, n_estimators=200, num_leaves=900 \n",
      "[CV]  learning_rate=0.1, max_depth=75, n_estimators=200, num_leaves=300, score=0.8325336532053845, total=  27.8s\n",
      "[CV] learning_rate=0.1, max_depth=75, n_estimators=200, num_leaves=1200 \n",
      "[CV]  learning_rate=0.1, max_depth=75, n_estimators=200, num_leaves=900, score=0.8220545115287218, total=  24.0s\n",
      "[CV] learning_rate=0.1, max_depth=75, n_estimators=200, num_leaves=1200 \n",
      "[CV]  learning_rate=0.1, max_depth=50, n_estimators=200, num_leaves=1200, score=0.8220545115287218, total=  40.3s\n",
      "[CV] learning_rate=0.1, max_depth=75, n_estimators=200, num_leaves=1200 \n",
      "[CV]  learning_rate=0.1, max_depth=75, n_estimators=200, num_leaves=300, score=0.8220545115287218, total=  34.9s\n",
      "[CV]  learning_rate=0.1, max_depth=75, n_estimators=200, num_leaves=300, score=0.8536252165800348, total=  38.3s\n",
      "[CV]  learning_rate=0.1, max_depth=75, n_estimators=200, num_leaves=900, score=0.8536252165800348, total=  35.6s\n",
      "[CV]  learning_rate=0.1, max_depth=50, n_estimators=200, num_leaves=1200, score=0.8325336532053845, total=  43.6s\n",
      "[CV]  learning_rate=0.1, max_depth=75, n_estimators=200, num_leaves=900, score=0.8325336532053845, total=  18.4s\n",
      "[CV]  learning_rate=0.1, max_depth=75, n_estimators=200, num_leaves=1200, score=0.8325336532053845, total=  17.1s\n",
      "[CV]  learning_rate=0.1, max_depth=75, n_estimators=200, num_leaves=1200, score=0.8536252165800348, total=  23.3s\n",
      "[CV]  learning_rate=0.1, max_depth=75, n_estimators=200, num_leaves=1200, score=0.8220545115287218, total=  18.5s\n"
     ]
    },
    {
     "name": "stderr",
     "output_type": "stream",
     "text": [
      "[Parallel(n_jobs=-1)]: Done  81 out of  81 | elapsed:  5.2min finished\n"
     ]
    },
    {
     "data": {
      "text/plain": [
       "LGBMClassifier(boosting_type='gbdt', class_weight=None, colsample_bytree=1.0,\n",
       "        importance_type='split', learning_rate=0.05, max_depth=25,\n",
       "        min_child_samples=20, min_child_weight=0.001, min_split_gain=0.0,\n",
       "        n_estimators=200, n_jobs=-1, num_leaves=300, objective=None,\n",
       "        random_state=None, reg_alpha=0.0, reg_lambda=0.0, silent=False,\n",
       "        subsample=1.0, subsample_for_bin=200000, subsample_freq=0)"
      ]
     },
     "execution_count": 123,
     "metadata": {},
     "output_type": "execute_result"
    }
   ],
   "source": [
    "lg = lgb.LGBMClassifier(silent=False)\n",
    "param_dist = {\"max_depth\": [25,50, 75],\n",
    "              \"learning_rate\" : [0.01,0.05,0.1],\n",
    "              \"num_leaves\": [300,900,1200],\n",
    "              \"n_estimators\": [200]\n",
    "             }\n",
    "grid_search = GridSearchCV(lg, n_jobs=-1, param_grid=param_dist, cv = 3, scoring=\"roc_auc\", verbose=5)\n",
    "grid_search.fit(x_train,y_train)\n",
    "grid_search.best_estimator_"
   ]
  },
  {
   "cell_type": "code",
   "execution_count": 151,
   "metadata": {},
   "outputs": [],
   "source": [
    "d_train = lgb.Dataset(x_train, label=y_train)\n",
    "params = {\"max_depth\": 25, \"learning_rate\" : 0.05, \"num_leaves\": 300,  \"n_estimators\": 200}"
   ]
  },
  {
   "cell_type": "code",
   "execution_count": 152,
   "metadata": {},
   "outputs": [
    {
     "name": "stderr",
     "output_type": "stream",
     "text": [
      "/home/camila/anaconda3/lib/python3.6/site-packages/lightgbm/engine.py:113: UserWarning: Found `n_estimators` in params. Will use it instead of argument\n",
      "  warnings.warn(\"Found `{}` in params. Will use it instead of argument\".format(alias))\n"
     ]
    },
    {
     "data": {
      "text/plain": [
       "(0.9999944426434493, 0.8490566037735848)"
      ]
     },
     "execution_count": 152,
     "metadata": {},
     "output_type": "execute_result"
    }
   ],
   "source": [
    "model2 = lgb.train(params, d_train)\n",
    "auc2(model2, x_train, x_test)"
   ]
  },
  {
   "cell_type": "code",
   "execution_count": 153,
   "metadata": {},
   "outputs": [],
   "source": [
    "set_test = pd.merge(data,labels_predict,on = \"person\", how = \"right\")\n",
    "personas = set_test[\"person\"]\n",
    "set_test = set_test.drop(columns=['person'])"
   ]
  },
  {
   "cell_type": "code",
   "execution_count": 154,
   "metadata": {},
   "outputs": [],
   "source": [
    "preds_kaggle = model2.predict(set_test)"
   ]
  },
  {
   "cell_type": "code",
   "execution_count": 155,
   "metadata": {},
   "outputs": [],
   "source": [
    "#convert into binary values\n",
    "for i in range(0,len(preds_kaggle)):\n",
    "    if preds_kaggle[i]>=.5:       # setting threshold to .5\n",
    "       preds_kaggle[i]=1\n",
    "    else:  \n",
    "       preds_kaggle[i]=0"
   ]
  },
  {
   "cell_type": "code",
   "execution_count": 156,
   "metadata": {},
   "outputs": [
    {
     "name": "stdout",
     "output_type": "stream",
     "text": [
      "<class 'pandas.core.frame.DataFrame'>\n",
      "RangeIndex: 19415 entries, 0 to 19414\n",
      "Data columns (total 1 columns):\n",
      "0    19415 non-null float64\n",
      "dtypes: float64(1)\n",
      "memory usage: 151.8 KB\n"
     ]
    }
   ],
   "source": [
    "preds_kaggle  = preds_kaggle.tolist()\n",
    "df_kaggel = pd.DataFrame(preds_kaggle)\n",
    "df_kaggel.info()"
   ]
  },
  {
   "cell_type": "code",
   "execution_count": 157,
   "metadata": {},
   "outputs": [],
   "source": [
    "df_kaggel[\"person\"] = personas\n",
    "df_kaggel.rename(columns = {0: 'label'},inplace = True) \n",
    "df_kaggel = df_kaggel[['person','label']]"
   ]
  },
  {
   "cell_type": "code",
   "execution_count": 158,
   "metadata": {},
   "outputs": [
    {
     "data": {
      "text/plain": [
       "0.0    13669\n",
       "1.0     5746\n",
       "Name: label, dtype: int64"
      ]
     },
     "execution_count": 158,
     "metadata": {},
     "output_type": "execute_result"
    }
   ],
   "source": [
    "df_kaggel[\"label\"].value_counts()"
   ]
  },
  {
   "cell_type": "code",
   "execution_count": 159,
   "metadata": {},
   "outputs": [
    {
     "data": {
      "text/html": [
       "<div>\n",
       "<style scoped>\n",
       "    .dataframe tbody tr th:only-of-type {\n",
       "        vertical-align: middle;\n",
       "    }\n",
       "\n",
       "    .dataframe tbody tr th {\n",
       "        vertical-align: top;\n",
       "    }\n",
       "\n",
       "    .dataframe thead th {\n",
       "        text-align: right;\n",
       "    }\n",
       "</style>\n",
       "<table border=\"1\" class=\"dataframe\">\n",
       "  <thead>\n",
       "    <tr style=\"text-align: right;\">\n",
       "      <th></th>\n",
       "      <th>person</th>\n",
       "      <th>label</th>\n",
       "    </tr>\n",
       "  </thead>\n",
       "  <tbody>\n",
       "    <tr>\n",
       "      <th>0</th>\n",
       "      <td>00091926</td>\n",
       "      <td>1</td>\n",
       "    </tr>\n",
       "    <tr>\n",
       "      <th>1</th>\n",
       "      <td>00091a7a</td>\n",
       "      <td>1</td>\n",
       "    </tr>\n",
       "    <tr>\n",
       "      <th>2</th>\n",
       "      <td>000ba417</td>\n",
       "      <td>0</td>\n",
       "    </tr>\n",
       "    <tr>\n",
       "      <th>3</th>\n",
       "      <td>000e4d9e</td>\n",
       "      <td>1</td>\n",
       "    </tr>\n",
       "    <tr>\n",
       "      <th>4</th>\n",
       "      <td>000e619d</td>\n",
       "      <td>0</td>\n",
       "    </tr>\n",
       "  </tbody>\n",
       "</table>\n",
       "</div>"
      ],
      "text/plain": [
       "     person  label\n",
       "0  00091926      1\n",
       "1  00091a7a      1\n",
       "2  000ba417      0\n",
       "3  000e4d9e      1\n",
       "4  000e619d      0"
      ]
     },
     "execution_count": 159,
     "metadata": {},
     "output_type": "execute_result"
    }
   ],
   "source": [
    "df_kaggel[(\"label\")] = df_kaggel[(\"label\")].astype(int)\n",
    "df_kaggel.head()"
   ]
  },
  {
   "cell_type": "code",
   "execution_count": null,
   "metadata": {},
   "outputs": [],
   "source": []
  },
  {
   "cell_type": "code",
   "execution_count": 160,
   "metadata": {},
   "outputs": [],
   "source": [
    "df_kaggel.to_csv('Resultados_light_GBM.csv',index=False)"
   ]
  },
  {
   "cell_type": "code",
   "execution_count": null,
   "metadata": {},
   "outputs": [],
   "source": []
  },
  {
   "cell_type": "code",
   "execution_count": null,
   "metadata": {},
   "outputs": [],
   "source": []
  }
 ],
 "metadata": {
  "kernelspec": {
   "display_name": "Python 3",
   "language": "python",
   "name": "python3"
  },
  "language_info": {
   "codemirror_mode": {
    "name": "ipython",
    "version": 3
   },
   "file_extension": ".py",
   "mimetype": "text/x-python",
   "name": "python",
   "nbconvert_exporter": "python",
   "pygments_lexer": "ipython3",
   "version": "3.6.5"
  }
 },
 "nbformat": 4,
 "nbformat_minor": 2
}
